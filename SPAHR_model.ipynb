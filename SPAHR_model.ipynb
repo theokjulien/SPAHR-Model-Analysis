{
 "cells": [
  {
   "cell_type": "markdown",
   "metadata": {},
   "source": [
    "# SPAHR MODEL WITH MESA\n",
    "\n",
    "Links\n",
    "\n",
    "* https://github.com/projectmesa/mesa/blob/master/examples/virus_on_network/virus_on_network/model.py\n",
    "* https://networkx.github.io/documentation/stable/reference/drawing.html\n",
    "* https://stackoverflow.com/questions/63681056/visualizing-agents-using-mesa-networkx"
   ]
  },
  {
   "cell_type": "markdown",
   "metadata": {},
   "source": [
    "## IMPORTS"
   ]
  },
  {
   "cell_type": "code",
   "execution_count": 20,
   "metadata": {},
   "outputs": [],
   "source": [
    "import time, enum, math\n",
    "import numpy as np\n",
    "import pandas as pd\n",
    "import pylab as plt\n",
    "from mesa import Agent, Model\n",
    "from mesa.time import RandomActivation\n",
    "from mesa.space import NetworkGrid\n",
    "from mesa.datacollection import DataCollector\n",
    "\n",
    "import networkx as nx\n",
    "\n",
    "from collections import Counter"
   ]
  },
  {
   "cell_type": "code",
   "execution_count": 21,
   "metadata": {},
   "outputs": [
    {
     "data": {
      "text/html": [
       "    <style>\n",
       "        .bk-notebook-logo {\n",
       "            display: block;\n",
       "            width: 20px;\n",
       "            height: 20px;\n",
       "            background-image: url(data:image/png;base64,iVBORw0KGgoAAAANSUhEUgAAABQAAAAUCAYAAACNiR0NAAAABHNCSVQICAgIfAhkiAAAAAlwSFlzAAALEgAACxIB0t1+/AAAABx0RVh0U29mdHdhcmUAQWRvYmUgRmlyZXdvcmtzIENTNui8sowAAAOkSURBVDiNjZRtaJVlGMd/1/08zzln5zjP1LWcU9N0NkN8m2CYjpgQYQXqSs0I84OLIC0hkEKoPtiH3gmKoiJDU7QpLgoLjLIQCpEsNJ1vqUOdO7ppbuec5+V+rj4ctwzd8IIbbi6u+8f1539dt3A78eXC7QizUF7gyV1fD1Yqg4JWz84yffhm0qkFqBogB9rM8tZdtwVsPUhWhGcFJngGeWrPzHm5oaMmkfEg1usvLFyc8jLRqDOMru7AyC8saQr7GG7f5fvDeH7Ej8CM66nIF+8yngt6HWaKh7k49Soy9nXurCi1o3qUbS3zWfrYeQDTB/Qj6kX6Ybhw4B+bOYoLKCC9H3Nu/leUTZ1JdRWkkn2ldcCamzrcf47KKXdAJllSlxAOkRgyHsGC/zRday5Qld9DyoM4/q/rUoy/CXh3jzOu3bHUVZeU+DEn8FInkPBFlu3+nW3Nw0mk6vCDiWg8CeJaxEwuHS3+z5RgY+YBR6V1Z1nxSOfoaPa4LASWxxdNp+VWTk7+4vzaou8v8PN+xo+KY2xsw6une2frhw05CTYOmQvsEhjhWjn0bmXPjpE1+kplmmkP3suftwTubK9Vq22qKmrBhpY4jvd5afdRA3wGjFAgcnTK2s4hY0/GPNIb0nErGMCRxWOOX64Z8RAC4oCXdklmEvcL8o0BfkNK4lUg9HTl+oPlQxdNo3Mg4Nv175e/1LDGzZen30MEjRUtmXSfiTVu1kK8W4txyV6BMKlbgk3lMwYCiusNy9fVfvvwMxv8Ynl6vxoByANLTWplvuj/nF9m2+PDtt1eiHPBr1oIfhCChQMBw6Aw0UulqTKZdfVvfG7VcfIqLG9bcldL/+pdWTLxLUy8Qq38heUIjh4XlzZxzQm19lLFlr8vdQ97rjZVOLf8nclzckbcD4wxXMidpX30sFd37Fv/GtwwhzhxGVAprjbg0gCAEeIgwCZyTV2Z1REEW8O4py0wsjeloKoMr6iCY6dP92H6Vw/oTyICIthibxjm/DfN9lVz8IqtqKYLUXfoKVMVQVVJOElGjrnnUt9T9wbgp8AyYKaGlqingHZU/uG2NTZSVqwHQTWkx9hxjkpWDaCg6Ckj5qebgBVbT3V3NNXMSiWSDdGV3hrtzla7J+duwPOToIg42ChPQOQjspnSlp1V+Gjdged7+8UN5CRAV7a5EdFNwCjEaBR27b3W890TE7g24NAP/mMDXRWrGoFPQI9ls/MWO2dWFAar/xcOIImbbpA3zgAAAABJRU5ErkJggg==);\n",
       "        }\n",
       "    </style>\n",
       "    <div>\n",
       "        <a href=\"https://bokeh.org\" target=\"_blank\" class=\"bk-notebook-logo\"></a>\n",
       "        <span id=\"e30ef973-1d8e-49e6-b749-2039c0a0a5cc\">Loading BokehJS ...</span>\n",
       "    </div>\n"
      ]
     },
     "metadata": {},
     "output_type": "display_data"
    },
    {
     "data": {
      "application/javascript": "'use strict';\n(function(root) {\n  function now() {\n    return new Date();\n  }\n\n  const force = true;\n\n  if (typeof root._bokeh_onload_callbacks === \"undefined\" || force === true) {\n    root._bokeh_onload_callbacks = [];\n    root._bokeh_is_loading = undefined;\n  }\n\nconst JS_MIME_TYPE = 'application/javascript';\n  const HTML_MIME_TYPE = 'text/html';\n  const EXEC_MIME_TYPE = 'application/vnd.bokehjs_exec.v0+json';\n  const CLASS_NAME = 'output_bokeh rendered_html';\n\n  /**\n   * Render data to the DOM node\n   */\n  function render(props, node) {\n    const script = document.createElement(\"script\");\n    node.appendChild(script);\n  }\n\n  /**\n   * Handle when an output is cleared or removed\n   */\n  function handleClearOutput(event, handle) {\n    function drop(id) {\n      const view = Bokeh.index.get_by_id(id)\n      if (view != null) {\n        view.model.document.clear()\n        Bokeh.index.delete(view)\n      }\n    }\n\n    const cell = handle.cell;\n\n    const id = cell.output_area._bokeh_element_id;\n    const server_id = cell.output_area._bokeh_server_id;\n\n    // Clean up Bokeh references\n    if (id != null) {\n      drop(id)\n    }\n\n    if (server_id !== undefined) {\n      // Clean up Bokeh references\n      const cmd_clean = \"from bokeh.io.state import curstate; print(curstate().uuid_to_server['\" + server_id + \"'].get_sessions()[0].document.roots[0]._id)\";\n      cell.notebook.kernel.execute(cmd_clean, {\n        iopub: {\n          output: function(msg) {\n            const id = msg.content.text.trim()\n            drop(id)\n          }\n        }\n      });\n      // Destroy server and session\n      const cmd_destroy = \"import bokeh.io.notebook as ion; ion.destroy_server('\" + server_id + \"')\";\n      cell.notebook.kernel.execute(cmd_destroy);\n    }\n  }\n\n  /**\n   * Handle when a new output is added\n   */\n  function handleAddOutput(event, handle) {\n    const output_area = handle.output_area;\n    const output = handle.output;\n\n    // limit handleAddOutput to display_data with EXEC_MIME_TYPE content only\n    if ((output.output_type != \"display_data\") || (!Object.prototype.hasOwnProperty.call(output.data, EXEC_MIME_TYPE))) {\n      return\n    }\n\n    const toinsert = output_area.element.find(\".\" + CLASS_NAME.split(' ')[0]);\n\n    if (output.metadata[EXEC_MIME_TYPE][\"id\"] !== undefined) {\n      toinsert[toinsert.length - 1].firstChild.textContent = output.data[JS_MIME_TYPE];\n      // store reference to embed id on output_area\n      output_area._bokeh_element_id = output.metadata[EXEC_MIME_TYPE][\"id\"];\n    }\n    if (output.metadata[EXEC_MIME_TYPE][\"server_id\"] !== undefined) {\n      const bk_div = document.createElement(\"div\");\n      bk_div.innerHTML = output.data[HTML_MIME_TYPE];\n      const script_attrs = bk_div.children[0].attributes;\n      for (let i = 0; i < script_attrs.length; i++) {\n        toinsert[toinsert.length - 1].firstChild.setAttribute(script_attrs[i].name, script_attrs[i].value);\n        toinsert[toinsert.length - 1].firstChild.textContent = bk_div.children[0].textContent\n      }\n      // store reference to server id on output_area\n      output_area._bokeh_server_id = output.metadata[EXEC_MIME_TYPE][\"server_id\"];\n    }\n  }\n\n  function register_renderer(events, OutputArea) {\n\n    function append_mime(data, metadata, element) {\n      // create a DOM node to render to\n      const toinsert = this.create_output_subarea(\n        metadata,\n        CLASS_NAME,\n        EXEC_MIME_TYPE\n      );\n      this.keyboard_manager.register_events(toinsert);\n      // Render to node\n      const props = {data: data, metadata: metadata[EXEC_MIME_TYPE]};\n      render(props, toinsert[toinsert.length - 1]);\n      element.append(toinsert);\n      return toinsert\n    }\n\n    /* Handle when an output is cleared or removed */\n    events.on('clear_output.CodeCell', handleClearOutput);\n    events.on('delete.Cell', handleClearOutput);\n\n    /* Handle when a new output is added */\n    events.on('output_added.OutputArea', handleAddOutput);\n\n    /**\n     * Register the mime type and append_mime function with output_area\n     */\n    OutputArea.prototype.register_mime_type(EXEC_MIME_TYPE, append_mime, {\n      /* Is output safe? */\n      safe: true,\n      /* Index of renderer in `output_area.display_order` */\n      index: 0\n    });\n  }\n\n  // register the mime type if in Jupyter Notebook environment and previously unregistered\n  if (root.Jupyter !== undefined) {\n    const events = require('base/js/events');\n    const OutputArea = require('notebook/js/outputarea').OutputArea;\n\n    if (OutputArea.prototype.mime_types().indexOf(EXEC_MIME_TYPE) == -1) {\n      register_renderer(events, OutputArea);\n    }\n  }\n  if (typeof (root._bokeh_timeout) === \"undefined\" || force === true) {\n    root._bokeh_timeout = Date.now() + 5000;\n    root._bokeh_failed_load = false;\n  }\n\n  const NB_LOAD_WARNING = {'data': {'text/html':\n     \"<div style='background-color: #fdd'>\\n\"+\n     \"<p>\\n\"+\n     \"BokehJS does not appear to have successfully loaded. If loading BokehJS from CDN, this \\n\"+\n     \"may be due to a slow or bad network connection. Possible fixes:\\n\"+\n     \"</p>\\n\"+\n     \"<ul>\\n\"+\n     \"<li>re-rerun `output_notebook()` to attempt to load from CDN again, or</li>\\n\"+\n     \"<li>use INLINE resources instead, as so:</li>\\n\"+\n     \"</ul>\\n\"+\n     \"<code>\\n\"+\n     \"from bokeh.resources import INLINE\\n\"+\n     \"output_notebook(resources=INLINE)\\n\"+\n     \"</code>\\n\"+\n     \"</div>\"}};\n\n  function display_loaded(error = null) {\n    const el = document.getElementById(\"e30ef973-1d8e-49e6-b749-2039c0a0a5cc\");\n    if (el != null) {\n      const html = (() => {\n        if (typeof root.Bokeh === \"undefined\") {\n          if (error == null) {\n            return \"BokehJS is loading ...\";\n          } else {\n            return \"BokehJS failed to load.\";\n          }\n        } else {\n          const prefix = `BokehJS ${root.Bokeh.version}`;\n          if (error == null) {\n            return `${prefix} successfully loaded.`;\n          } else {\n            return `${prefix} <b>encountered errors</b> while loading and may not function as expected.`;\n          }\n        }\n      })();\n      el.innerHTML = html;\n\n      if (error != null) {\n        const wrapper = document.createElement(\"div\");\n        wrapper.style.overflow = \"auto\";\n        wrapper.style.height = \"5em\";\n        wrapper.style.resize = \"vertical\";\n        const content = document.createElement(\"div\");\n        content.style.fontFamily = \"monospace\";\n        content.style.whiteSpace = \"pre-wrap\";\n        content.style.backgroundColor = \"rgb(255, 221, 221)\";\n        content.textContent = error.stack ?? error.toString();\n        wrapper.append(content);\n        el.append(wrapper);\n      }\n    } else if (Date.now() < root._bokeh_timeout) {\n      setTimeout(() => display_loaded(error), 100);\n    }\n  }\n\n  function run_callbacks() {\n    try {\n      root._bokeh_onload_callbacks.forEach(function(callback) {\n        if (callback != null)\n          callback();\n      });\n    } finally {\n      delete root._bokeh_onload_callbacks\n    }\n    console.debug(\"Bokeh: all callbacks have finished\");\n  }\n\n  function load_libs(css_urls, js_urls, callback) {\n    if (css_urls == null) css_urls = [];\n    if (js_urls == null) js_urls = [];\n\n    root._bokeh_onload_callbacks.push(callback);\n    if (root._bokeh_is_loading > 0) {\n      console.debug(\"Bokeh: BokehJS is being loaded, scheduling callback at\", now());\n      return null;\n    }\n    if (js_urls == null || js_urls.length === 0) {\n      run_callbacks();\n      return null;\n    }\n    console.debug(\"Bokeh: BokehJS not loaded, scheduling load and callback at\", now());\n    root._bokeh_is_loading = css_urls.length + js_urls.length;\n\n    function on_load() {\n      root._bokeh_is_loading--;\n      if (root._bokeh_is_loading === 0) {\n        console.debug(\"Bokeh: all BokehJS libraries/stylesheets loaded\");\n        run_callbacks()\n      }\n    }\n\n    function on_error(url) {\n      console.error(\"failed to load \" + url);\n    }\n\n    for (let i = 0; i < css_urls.length; i++) {\n      const url = css_urls[i];\n      const element = document.createElement(\"link\");\n      element.onload = on_load;\n      element.onerror = on_error.bind(null, url);\n      element.rel = \"stylesheet\";\n      element.type = \"text/css\";\n      element.href = url;\n      console.debug(\"Bokeh: injecting link tag for BokehJS stylesheet: \", url);\n      document.body.appendChild(element);\n    }\n\n    for (let i = 0; i < js_urls.length; i++) {\n      const url = js_urls[i];\n      const element = document.createElement('script');\n      element.onload = on_load;\n      element.onerror = on_error.bind(null, url);\n      element.async = false;\n      element.src = url;\n      console.debug(\"Bokeh: injecting script tag for BokehJS library: \", url);\n      document.head.appendChild(element);\n    }\n  };\n\n  function inject_raw_css(css) {\n    const element = document.createElement(\"style\");\n    element.appendChild(document.createTextNode(css));\n    document.body.appendChild(element);\n  }\n\n  const js_urls = [\"https://cdn.bokeh.org/bokeh/release/bokeh-3.4.3.min.js\", \"https://cdn.bokeh.org/bokeh/release/bokeh-gl-3.4.3.min.js\", \"https://cdn.bokeh.org/bokeh/release/bokeh-widgets-3.4.3.min.js\", \"https://cdn.bokeh.org/bokeh/release/bokeh-tables-3.4.3.min.js\", \"https://cdn.bokeh.org/bokeh/release/bokeh-mathjax-3.4.3.min.js\", \"https://unpkg.com/@holoviz/panel@1.4.5/dist/panel.min.js\"];\n  const css_urls = [];\n\n  const inline_js = [    function(Bokeh) {\n      Bokeh.set_log_level(\"info\");\n    },\nfunction(Bokeh) {\n    }\n  ];\n\n  function run_inline_js() {\n    if (root.Bokeh !== undefined || force === true) {\n      try {\n            for (let i = 0; i < inline_js.length; i++) {\n      inline_js[i].call(root, root.Bokeh);\n    }\n\n      } catch (error) {display_loaded(error);throw error;\n      }if (force === true) {\n        display_loaded();\n      }} else if (Date.now() < root._bokeh_timeout) {\n      setTimeout(run_inline_js, 100);\n    } else if (!root._bokeh_failed_load) {\n      console.log(\"Bokeh: BokehJS failed to load within specified timeout.\");\n      root._bokeh_failed_load = true;\n    } else if (force !== true) {\n      const cell = $(document.getElementById(\"e30ef973-1d8e-49e6-b749-2039c0a0a5cc\")).parents('.cell').data().cell;\n      cell.output_area.append_execute_result(NB_LOAD_WARNING)\n    }\n  }\n\n  if (root._bokeh_is_loading === 0) {\n    console.debug(\"Bokeh: BokehJS loaded, going straight to plotting\");\n    run_inline_js();\n  } else {\n    load_libs(css_urls, js_urls, function() {\n      console.debug(\"Bokeh: BokehJS plotting callback run at\", now());\n      run_inline_js();\n    });\n  }\n}(window));",
      "application/vnd.bokehjs_load.v0+json": ""
     },
     "metadata": {},
     "output_type": "display_data"
    },
    {
     "data": {
      "application/javascript": "(function(root) {\n  function now() {\n    return new Date();\n  }\n\n  var force = true;\n  var py_version = '3.4.3'.replace('rc', '-rc.').replace('.dev', '-dev.');\n  var reloading = false;\n  var Bokeh = root.Bokeh;\n\n  if (typeof (root._bokeh_timeout) === \"undefined\" || force) {\n    root._bokeh_timeout = Date.now() + 5000;\n    root._bokeh_failed_load = false;\n  }\n\n  function run_callbacks() {\n    try {\n      root._bokeh_onload_callbacks.forEach(function(callback) {\n        if (callback != null)\n          callback();\n      });\n    } finally {\n      delete root._bokeh_onload_callbacks;\n    }\n    console.debug(\"Bokeh: all callbacks have finished\");\n  }\n\n  function load_libs(css_urls, js_urls, js_modules, js_exports, callback) {\n    if (css_urls == null) css_urls = [];\n    if (js_urls == null) js_urls = [];\n    if (js_modules == null) js_modules = [];\n    if (js_exports == null) js_exports = {};\n\n    root._bokeh_onload_callbacks.push(callback);\n\n    if (root._bokeh_is_loading > 0) {\n      console.debug(\"Bokeh: BokehJS is being loaded, scheduling callback at\", now());\n      return null;\n    }\n    if (js_urls.length === 0 && js_modules.length === 0 && Object.keys(js_exports).length === 0) {\n      run_callbacks();\n      return null;\n    }\n    if (!reloading) {\n      console.debug(\"Bokeh: BokehJS not loaded, scheduling load and callback at\", now());\n    }\n\n    function on_load() {\n      root._bokeh_is_loading--;\n      if (root._bokeh_is_loading === 0) {\n        console.debug(\"Bokeh: all BokehJS libraries/stylesheets loaded\");\n        run_callbacks()\n      }\n    }\n    window._bokeh_on_load = on_load\n\n    function on_error() {\n      console.error(\"failed to load \" + url);\n    }\n\n    var skip = [];\n    if (window.requirejs) {\n      window.requirejs.config({'packages': {}, 'paths': {}, 'shim': {}});\n      root._bokeh_is_loading = css_urls.length + 0;\n    } else {\n      root._bokeh_is_loading = css_urls.length + js_urls.length + js_modules.length + Object.keys(js_exports).length;\n    }\n\n    var existing_stylesheets = []\n    var links = document.getElementsByTagName('link')\n    for (var i = 0; i < links.length; i++) {\n      var link = links[i]\n      if (link.href != null) {\n\texisting_stylesheets.push(link.href)\n      }\n    }\n    for (var i = 0; i < css_urls.length; i++) {\n      var url = css_urls[i];\n      if (existing_stylesheets.indexOf(url) !== -1) {\n\ton_load()\n\tcontinue;\n      }\n      const element = document.createElement(\"link\");\n      element.onload = on_load;\n      element.onerror = on_error;\n      element.rel = \"stylesheet\";\n      element.type = \"text/css\";\n      element.href = url;\n      console.debug(\"Bokeh: injecting link tag for BokehJS stylesheet: \", url);\n      document.body.appendChild(element);\n    }    var existing_scripts = []\n    var scripts = document.getElementsByTagName('script')\n    for (var i = 0; i < scripts.length; i++) {\n      var script = scripts[i]\n      if (script.src != null) {\n\texisting_scripts.push(script.src)\n      }\n    }\n    for (var i = 0; i < js_urls.length; i++) {\n      var url = js_urls[i];\n      if (skip.indexOf(url) !== -1 || existing_scripts.indexOf(url) !== -1) {\n\tif (!window.requirejs) {\n\t  on_load();\n\t}\n\tcontinue;\n      }\n      var element = document.createElement('script');\n      element.onload = on_load;\n      element.onerror = on_error;\n      element.async = false;\n      element.src = url;\n      console.debug(\"Bokeh: injecting script tag for BokehJS library: \", url);\n      document.head.appendChild(element);\n    }\n    for (var i = 0; i < js_modules.length; i++) {\n      var url = js_modules[i];\n      if (skip.indexOf(url) !== -1 || existing_scripts.indexOf(url) !== -1) {\n\tif (!window.requirejs) {\n\t  on_load();\n\t}\n\tcontinue;\n      }\n      var element = document.createElement('script');\n      element.onload = on_load;\n      element.onerror = on_error;\n      element.async = false;\n      element.src = url;\n      element.type = \"module\";\n      console.debug(\"Bokeh: injecting script tag for BokehJS library: \", url);\n      document.head.appendChild(element);\n    }\n    for (const name in js_exports) {\n      var url = js_exports[name];\n      if (skip.indexOf(url) >= 0 || root[name] != null) {\n\tif (!window.requirejs) {\n\t  on_load();\n\t}\n\tcontinue;\n      }\n      var element = document.createElement('script');\n      element.onerror = on_error;\n      element.async = false;\n      element.type = \"module\";\n      console.debug(\"Bokeh: injecting script tag for BokehJS library: \", url);\n      element.textContent = `\n      import ${name} from \"${url}\"\n      window.${name} = ${name}\n      window._bokeh_on_load()\n      `\n      document.head.appendChild(element);\n    }\n    if (!js_urls.length && !js_modules.length) {\n      on_load()\n    }\n  };\n\n  function inject_raw_css(css) {\n    const element = document.createElement(\"style\");\n    element.appendChild(document.createTextNode(css));\n    document.body.appendChild(element);\n  }\n\n  var js_urls = [\"https://cdn.bokeh.org/bokeh/release/bokeh-3.4.3.min.js\", \"https://cdn.bokeh.org/bokeh/release/bokeh-gl-3.4.3.min.js\", \"https://cdn.bokeh.org/bokeh/release/bokeh-widgets-3.4.3.min.js\", \"https://cdn.bokeh.org/bokeh/release/bokeh-tables-3.4.3.min.js\", \"https://cdn.holoviz.org/panel/1.4.5/dist/panel.min.js\"];\n  var js_modules = [];\n  var js_exports = {};\n  var css_urls = [];\n  var inline_js = [    function(Bokeh) {\n      Bokeh.set_log_level(\"info\");\n    },\nfunction(Bokeh) {} // ensure no trailing comma for IE\n  ];\n\n  function run_inline_js() {\n    if ((root.Bokeh !== undefined) || (force === true)) {\n      for (var i = 0; i < inline_js.length; i++) {\n\ttry {\n          inline_js[i].call(root, root.Bokeh);\n\t} catch(e) {\n\t  if (!reloading) {\n\t    throw e;\n\t  }\n\t}\n      }\n      // Cache old bokeh versions\n      if (Bokeh != undefined && !reloading) {\n\tvar NewBokeh = root.Bokeh;\n\tif (Bokeh.versions === undefined) {\n\t  Bokeh.versions = new Map();\n\t}\n\tif (NewBokeh.version !== Bokeh.version) {\n\t  Bokeh.versions.set(NewBokeh.version, NewBokeh)\n\t}\n\troot.Bokeh = Bokeh;\n      }} else if (Date.now() < root._bokeh_timeout) {\n      setTimeout(run_inline_js, 100);\n    } else if (!root._bokeh_failed_load) {\n      console.log(\"Bokeh: BokehJS failed to load within specified timeout.\");\n      root._bokeh_failed_load = true;\n    }\n    root._bokeh_is_initializing = false\n  }\n\n  function load_or_wait() {\n    // Implement a backoff loop that tries to ensure we do not load multiple\n    // versions of Bokeh and its dependencies at the same time.\n    // In recent versions we use the root._bokeh_is_initializing flag\n    // to determine whether there is an ongoing attempt to initialize\n    // bokeh, however for backward compatibility we also try to ensure\n    // that we do not start loading a newer (Panel>=1.0 and Bokeh>3) version\n    // before older versions are fully initialized.\n    if (root._bokeh_is_initializing && Date.now() > root._bokeh_timeout) {\n      root._bokeh_is_initializing = false;\n      root._bokeh_onload_callbacks = undefined;\n      console.log(\"Bokeh: BokehJS was loaded multiple times but one version failed to initialize.\");\n      load_or_wait();\n    } else if (root._bokeh_is_initializing || (typeof root._bokeh_is_initializing === \"undefined\" && root._bokeh_onload_callbacks !== undefined)) {\n      setTimeout(load_or_wait, 100);\n    } else {\n      root._bokeh_is_initializing = true\n      root._bokeh_onload_callbacks = []\n      var bokeh_loaded = Bokeh != null && (Bokeh.version === py_version || (Bokeh.versions !== undefined && Bokeh.versions.has(py_version)));\n      if (!reloading && !bokeh_loaded) {\n\troot.Bokeh = undefined;\n      }\n      load_libs(css_urls, js_urls, js_modules, js_exports, function() {\n\tconsole.debug(\"Bokeh: BokehJS plotting callback run at\", now());\n\trun_inline_js();\n      });\n    }\n  }\n  // Give older versions of the autoload script a head-start to ensure\n  // they initialize before we start loading newer version.\n  setTimeout(load_or_wait, 100)\n}(window));",
      "application/vnd.holoviews_load.v0+json": ""
     },
     "metadata": {},
     "output_type": "display_data"
    },
    {
     "data": {
      "application/javascript": "\nif ((window.PyViz === undefined) || (window.PyViz instanceof HTMLElement)) {\n  window.PyViz = {comms: {}, comm_status:{}, kernels:{}, receivers: {}, plot_index: []}\n}\n\n\n    function JupyterCommManager() {\n    }\n\n    JupyterCommManager.prototype.register_target = function(plot_id, comm_id, msg_handler) {\n      if (window.comm_manager || ((window.Jupyter !== undefined) && (Jupyter.notebook.kernel != null))) {\n        var comm_manager = window.comm_manager || Jupyter.notebook.kernel.comm_manager;\n        comm_manager.register_target(comm_id, function(comm) {\n          comm.on_msg(msg_handler);\n        });\n      } else if ((plot_id in window.PyViz.kernels) && (window.PyViz.kernels[plot_id])) {\n        window.PyViz.kernels[plot_id].registerCommTarget(comm_id, function(comm) {\n          comm.onMsg = msg_handler;\n        });\n      } else if (typeof google != 'undefined' && google.colab.kernel != null) {\n        google.colab.kernel.comms.registerTarget(comm_id, (comm) => {\n          var messages = comm.messages[Symbol.asyncIterator]();\n          function processIteratorResult(result) {\n            var message = result.value;\n            console.log(message)\n            var content = {data: message.data, comm_id};\n            var buffers = []\n            for (var buffer of message.buffers || []) {\n              buffers.push(new DataView(buffer))\n            }\n            var metadata = message.metadata || {};\n            var msg = {content, buffers, metadata}\n            msg_handler(msg);\n            return messages.next().then(processIteratorResult);\n          }\n          return messages.next().then(processIteratorResult);\n        })\n      }\n    }\n\n    JupyterCommManager.prototype.get_client_comm = function(plot_id, comm_id, msg_handler) {\n      if (comm_id in window.PyViz.comms) {\n        return window.PyViz.comms[comm_id];\n      } else if (window.comm_manager || ((window.Jupyter !== undefined) && (Jupyter.notebook.kernel != null))) {\n        var comm_manager = window.comm_manager || Jupyter.notebook.kernel.comm_manager;\n        var comm = comm_manager.new_comm(comm_id, {}, {}, {}, comm_id);\n        if (msg_handler) {\n          comm.on_msg(msg_handler);\n        }\n      } else if ((plot_id in window.PyViz.kernels) && (window.PyViz.kernels[plot_id])) {\n        var comm = window.PyViz.kernels[plot_id].connectToComm(comm_id);\n        comm.open();\n        if (msg_handler) {\n          comm.onMsg = msg_handler;\n        }\n      } else if (typeof google != 'undefined' && google.colab.kernel != null) {\n        var comm_promise = google.colab.kernel.comms.open(comm_id)\n        comm_promise.then((comm) => {\n          window.PyViz.comms[comm_id] = comm;\n          if (msg_handler) {\n            var messages = comm.messages[Symbol.asyncIterator]();\n            function processIteratorResult(result) {\n              var message = result.value;\n              var content = {data: message.data};\n              var metadata = message.metadata || {comm_id};\n              var msg = {content, metadata}\n              msg_handler(msg);\n              return messages.next().then(processIteratorResult);\n            }\n            return messages.next().then(processIteratorResult);\n          }\n        }) \n        var sendClosure = (data, metadata, buffers, disposeOnDone) => {\n          return comm_promise.then((comm) => {\n            comm.send(data, metadata, buffers, disposeOnDone);\n          });\n        };\n        var comm = {\n          send: sendClosure\n        };\n      }\n      window.PyViz.comms[comm_id] = comm;\n      return comm;\n    }\n    window.PyViz.comm_manager = new JupyterCommManager();\n    \n\n\nvar JS_MIME_TYPE = 'application/javascript';\nvar HTML_MIME_TYPE = 'text/html';\nvar EXEC_MIME_TYPE = 'application/vnd.holoviews_exec.v0+json';\nvar CLASS_NAME = 'output';\n\n/**\n * Render data to the DOM node\n */\nfunction render(props, node) {\n  var div = document.createElement(\"div\");\n  var script = document.createElement(\"script\");\n  node.appendChild(div);\n  node.appendChild(script);\n}\n\n/**\n * Handle when a new output is added\n */\nfunction handle_add_output(event, handle) {\n  var output_area = handle.output_area;\n  var output = handle.output;\n  if ((output.data == undefined) || (!output.data.hasOwnProperty(EXEC_MIME_TYPE))) {\n    return\n  }\n  var id = output.metadata[EXEC_MIME_TYPE][\"id\"];\n  var toinsert = output_area.element.find(\".\" + CLASS_NAME.split(' ')[0]);\n  if (id !== undefined) {\n    var nchildren = toinsert.length;\n    var html_node = toinsert[nchildren-1].children[0];\n    html_node.innerHTML = output.data[HTML_MIME_TYPE];\n    var scripts = [];\n    var nodelist = html_node.querySelectorAll(\"script\");\n    for (var i in nodelist) {\n      if (nodelist.hasOwnProperty(i)) {\n        scripts.push(nodelist[i])\n      }\n    }\n\n    scripts.forEach( function (oldScript) {\n      var newScript = document.createElement(\"script\");\n      var attrs = [];\n      var nodemap = oldScript.attributes;\n      for (var j in nodemap) {\n        if (nodemap.hasOwnProperty(j)) {\n          attrs.push(nodemap[j])\n        }\n      }\n      attrs.forEach(function(attr) { newScript.setAttribute(attr.name, attr.value) });\n      newScript.appendChild(document.createTextNode(oldScript.innerHTML));\n      oldScript.parentNode.replaceChild(newScript, oldScript);\n    });\n    if (JS_MIME_TYPE in output.data) {\n      toinsert[nchildren-1].children[1].textContent = output.data[JS_MIME_TYPE];\n    }\n    output_area._hv_plot_id = id;\n    if ((window.Bokeh !== undefined) && (id in Bokeh.index)) {\n      window.PyViz.plot_index[id] = Bokeh.index[id];\n    } else {\n      window.PyViz.plot_index[id] = null;\n    }\n  } else if (output.metadata[EXEC_MIME_TYPE][\"server_id\"] !== undefined) {\n    var bk_div = document.createElement(\"div\");\n    bk_div.innerHTML = output.data[HTML_MIME_TYPE];\n    var script_attrs = bk_div.children[0].attributes;\n    for (var i = 0; i < script_attrs.length; i++) {\n      toinsert[toinsert.length - 1].childNodes[1].setAttribute(script_attrs[i].name, script_attrs[i].value);\n    }\n    // store reference to server id on output_area\n    output_area._bokeh_server_id = output.metadata[EXEC_MIME_TYPE][\"server_id\"];\n  }\n}\n\n/**\n * Handle when an output is cleared or removed\n */\nfunction handle_clear_output(event, handle) {\n  var id = handle.cell.output_area._hv_plot_id;\n  var server_id = handle.cell.output_area._bokeh_server_id;\n  if (((id === undefined) || !(id in PyViz.plot_index)) && (server_id !== undefined)) { return; }\n  var comm = window.PyViz.comm_manager.get_client_comm(\"hv-extension-comm\", \"hv-extension-comm\", function () {});\n  if (server_id !== null) {\n    comm.send({event_type: 'server_delete', 'id': server_id});\n    return;\n  } else if (comm !== null) {\n    comm.send({event_type: 'delete', 'id': id});\n  }\n  delete PyViz.plot_index[id];\n  if ((window.Bokeh !== undefined) & (id in window.Bokeh.index)) {\n    var doc = window.Bokeh.index[id].model.document\n    doc.clear();\n    const i = window.Bokeh.documents.indexOf(doc);\n    if (i > -1) {\n      window.Bokeh.documents.splice(i, 1);\n    }\n  }\n}\n\n/**\n * Handle kernel restart event\n */\nfunction handle_kernel_cleanup(event, handle) {\n  delete PyViz.comms[\"hv-extension-comm\"];\n  window.PyViz.plot_index = {}\n}\n\n/**\n * Handle update_display_data messages\n */\nfunction handle_update_output(event, handle) {\n  handle_clear_output(event, {cell: {output_area: handle.output_area}})\n  handle_add_output(event, handle)\n}\n\nfunction register_renderer(events, OutputArea) {\n  function append_mime(data, metadata, element) {\n    // create a DOM node to render to\n    var toinsert = this.create_output_subarea(\n    metadata,\n    CLASS_NAME,\n    EXEC_MIME_TYPE\n    );\n    this.keyboard_manager.register_events(toinsert);\n    // Render to node\n    var props = {data: data, metadata: metadata[EXEC_MIME_TYPE]};\n    render(props, toinsert[0]);\n    element.append(toinsert);\n    return toinsert\n  }\n\n  events.on('output_added.OutputArea', handle_add_output);\n  events.on('output_updated.OutputArea', handle_update_output);\n  events.on('clear_output.CodeCell', handle_clear_output);\n  events.on('delete.Cell', handle_clear_output);\n  events.on('kernel_ready.Kernel', handle_kernel_cleanup);\n\n  OutputArea.prototype.register_mime_type(EXEC_MIME_TYPE, append_mime, {\n    safe: true,\n    index: 0\n  });\n}\n\nif (window.Jupyter !== undefined) {\n  try {\n    var events = require('base/js/events');\n    var OutputArea = require('notebook/js/outputarea').OutputArea;\n    if (OutputArea.prototype.mime_types().indexOf(EXEC_MIME_TYPE) == -1) {\n      register_renderer(events, OutputArea);\n    }\n  } catch(err) {\n  }\n}\n",
      "application/vnd.holoviews_load.v0+json": ""
     },
     "metadata": {},
     "output_type": "display_data"
    },
    {
     "data": {
      "text/html": [
       "<style>*[data-root-id],\n",
       "*[data-root-id] > * {\n",
       "  box-sizing: border-box;\n",
       "  font-family: var(--jp-ui-font-family);\n",
       "  font-size: var(--jp-ui-font-size1);\n",
       "  color: var(--vscode-editor-foreground, var(--jp-ui-font-color1));\n",
       "}\n",
       "\n",
       "/* Override VSCode background color */\n",
       ".cell-output-ipywidget-background:has(\n",
       "    > .cell-output-ipywidget-background > .lm-Widget > *[data-root-id]\n",
       "  ),\n",
       ".cell-output-ipywidget-background:has(> .lm-Widget > *[data-root-id]) {\n",
       "  background-color: transparent !important;\n",
       "}\n",
       "</style>"
      ]
     },
     "metadata": {},
     "output_type": "display_data"
    },
    {
     "data": {
      "application/vnd.holoviews_exec.v0+json": "",
      "text/html": [
       "<div id='c13dc801-e738-4135-85b4-532192b5d81f'>\n",
       "  <div id=\"a4756442-932a-4aaf-8810-3f34c14a25fb\" data-root-id=\"c13dc801-e738-4135-85b4-532192b5d81f\" style=\"display: contents;\"></div>\n",
       "</div>\n",
       "<script type=\"application/javascript\">(function(root) {\n",
       "  var docs_json = {\"17fc29ff-a745-4a46-a929-bbb7c842d983\":{\"version\":\"3.4.3\",\"title\":\"Bokeh Application\",\"roots\":[{\"type\":\"object\",\"name\":\"panel.models.browser.BrowserInfo\",\"id\":\"c13dc801-e738-4135-85b4-532192b5d81f\"},{\"type\":\"object\",\"name\":\"panel.models.comm_manager.CommManager\",\"id\":\"43122c50-ab2e-4c55-a798-f7f2c80cf318\",\"attributes\":{\"plot_id\":\"c13dc801-e738-4135-85b4-532192b5d81f\",\"comm_id\":\"76509e9d5235429fbc049f01ebd5c424\",\"client_comm_id\":\"3342bc2919b64e399da3ed76897e0802\"}}],\"defs\":[{\"type\":\"model\",\"name\":\"ReactiveHTML1\"},{\"type\":\"model\",\"name\":\"FlexBox1\",\"properties\":[{\"name\":\"align_content\",\"kind\":\"Any\",\"default\":\"flex-start\"},{\"name\":\"align_items\",\"kind\":\"Any\",\"default\":\"flex-start\"},{\"name\":\"flex_direction\",\"kind\":\"Any\",\"default\":\"row\"},{\"name\":\"flex_wrap\",\"kind\":\"Any\",\"default\":\"wrap\"},{\"name\":\"gap\",\"kind\":\"Any\",\"default\":\"\"},{\"name\":\"justify_content\",\"kind\":\"Any\",\"default\":\"flex-start\"}]},{\"type\":\"model\",\"name\":\"FloatPanel1\",\"properties\":[{\"name\":\"config\",\"kind\":\"Any\",\"default\":{\"type\":\"map\"}},{\"name\":\"contained\",\"kind\":\"Any\",\"default\":true},{\"name\":\"position\",\"kind\":\"Any\",\"default\":\"right-top\"},{\"name\":\"offsetx\",\"kind\":\"Any\",\"default\":null},{\"name\":\"offsety\",\"kind\":\"Any\",\"default\":null},{\"name\":\"theme\",\"kind\":\"Any\",\"default\":\"primary\"},{\"name\":\"status\",\"kind\":\"Any\",\"default\":\"normalized\"}]},{\"type\":\"model\",\"name\":\"GridStack1\",\"properties\":[{\"name\":\"mode\",\"kind\":\"Any\",\"default\":\"warn\"},{\"name\":\"ncols\",\"kind\":\"Any\",\"default\":null},{\"name\":\"nrows\",\"kind\":\"Any\",\"default\":null},{\"name\":\"allow_resize\",\"kind\":\"Any\",\"default\":true},{\"name\":\"allow_drag\",\"kind\":\"Any\",\"default\":true},{\"name\":\"state\",\"kind\":\"Any\",\"default\":[]}]},{\"type\":\"model\",\"name\":\"drag1\",\"properties\":[{\"name\":\"slider_width\",\"kind\":\"Any\",\"default\":5},{\"name\":\"slider_color\",\"kind\":\"Any\",\"default\":\"black\"},{\"name\":\"value\",\"kind\":\"Any\",\"default\":50}]},{\"type\":\"model\",\"name\":\"click1\",\"properties\":[{\"name\":\"terminal_output\",\"kind\":\"Any\",\"default\":\"\"},{\"name\":\"debug_name\",\"kind\":\"Any\",\"default\":\"\"},{\"name\":\"clears\",\"kind\":\"Any\",\"default\":0}]},{\"type\":\"model\",\"name\":\"FastWrapper1\",\"properties\":[{\"name\":\"object\",\"kind\":\"Any\",\"default\":null},{\"name\":\"style\",\"kind\":\"Any\",\"default\":null}]},{\"type\":\"model\",\"name\":\"NotificationAreaBase1\",\"properties\":[{\"name\":\"js_events\",\"kind\":\"Any\",\"default\":{\"type\":\"map\"}},{\"name\":\"position\",\"kind\":\"Any\",\"default\":\"bottom-right\"},{\"name\":\"_clear\",\"kind\":\"Any\",\"default\":0}]},{\"type\":\"model\",\"name\":\"NotificationArea1\",\"properties\":[{\"name\":\"js_events\",\"kind\":\"Any\",\"default\":{\"type\":\"map\"}},{\"name\":\"notifications\",\"kind\":\"Any\",\"default\":[]},{\"name\":\"position\",\"kind\":\"Any\",\"default\":\"bottom-right\"},{\"name\":\"_clear\",\"kind\":\"Any\",\"default\":0},{\"name\":\"types\",\"kind\":\"Any\",\"default\":[{\"type\":\"map\",\"entries\":[[\"type\",\"warning\"],[\"background\",\"#ffc107\"],[\"icon\",{\"type\":\"map\",\"entries\":[[\"className\",\"fas fa-exclamation-triangle\"],[\"tagName\",\"i\"],[\"color\",\"white\"]]}]]},{\"type\":\"map\",\"entries\":[[\"type\",\"info\"],[\"background\",\"#007bff\"],[\"icon\",{\"type\":\"map\",\"entries\":[[\"className\",\"fas fa-info-circle\"],[\"tagName\",\"i\"],[\"color\",\"white\"]]}]]}]}]},{\"type\":\"model\",\"name\":\"Notification\",\"properties\":[{\"name\":\"background\",\"kind\":\"Any\",\"default\":null},{\"name\":\"duration\",\"kind\":\"Any\",\"default\":3000},{\"name\":\"icon\",\"kind\":\"Any\",\"default\":null},{\"name\":\"message\",\"kind\":\"Any\",\"default\":\"\"},{\"name\":\"notification_type\",\"kind\":\"Any\",\"default\":null},{\"name\":\"_destroyed\",\"kind\":\"Any\",\"default\":false}]},{\"type\":\"model\",\"name\":\"TemplateActions1\",\"properties\":[{\"name\":\"open_modal\",\"kind\":\"Any\",\"default\":0},{\"name\":\"close_modal\",\"kind\":\"Any\",\"default\":0}]},{\"type\":\"model\",\"name\":\"BootstrapTemplateActions1\",\"properties\":[{\"name\":\"open_modal\",\"kind\":\"Any\",\"default\":0},{\"name\":\"close_modal\",\"kind\":\"Any\",\"default\":0}]},{\"type\":\"model\",\"name\":\"TemplateEditor1\",\"properties\":[{\"name\":\"layout\",\"kind\":\"Any\",\"default\":[]}]},{\"type\":\"model\",\"name\":\"MaterialTemplateActions1\",\"properties\":[{\"name\":\"open_modal\",\"kind\":\"Any\",\"default\":0},{\"name\":\"close_modal\",\"kind\":\"Any\",\"default\":0}]},{\"type\":\"model\",\"name\":\"copy_to_clipboard1\",\"properties\":[{\"name\":\"fill\",\"kind\":\"Any\",\"default\":\"none\"},{\"name\":\"value\",\"kind\":\"Any\",\"default\":null}]}]}};\n",
       "  var render_items = [{\"docid\":\"17fc29ff-a745-4a46-a929-bbb7c842d983\",\"roots\":{\"c13dc801-e738-4135-85b4-532192b5d81f\":\"a4756442-932a-4aaf-8810-3f34c14a25fb\"},\"root_ids\":[\"c13dc801-e738-4135-85b4-532192b5d81f\"]}];\n",
       "  var docs = Object.values(docs_json)\n",
       "  if (!docs) {\n",
       "    return\n",
       "  }\n",
       "  const py_version = docs[0].version.replace('rc', '-rc.').replace('.dev', '-dev.')\n",
       "  async function embed_document(root) {\n",
       "    var Bokeh = get_bokeh(root)\n",
       "    await Bokeh.embed.embed_items_notebook(docs_json, render_items);\n",
       "    for (const render_item of render_items) {\n",
       "      for (const root_id of render_item.root_ids) {\n",
       "\tconst id_el = document.getElementById(root_id)\n",
       "\tif (id_el.children.length && id_el.children[0].hasAttribute('data-root-id')) {\n",
       "\t  const root_el = id_el.children[0]\n",
       "\t  root_el.id = root_el.id + '-rendered'\n",
       "\t  for (const child of root_el.children) {\n",
       "            // Ensure JupyterLab does not capture keyboard shortcuts\n",
       "            // see: https://jupyterlab.readthedocs.io/en/4.1.x/extension/notebook.html#keyboard-interaction-model\n",
       "\t    child.setAttribute('data-lm-suppress-shortcuts', 'true')\n",
       "\t  }\n",
       "\t}\n",
       "      }\n",
       "    }\n",
       "  }\n",
       "  function get_bokeh(root) {\n",
       "    if (root.Bokeh === undefined) {\n",
       "      return null\n",
       "    } else if (root.Bokeh.version !== py_version) {\n",
       "      if (root.Bokeh.versions === undefined || !root.Bokeh.versions.has(py_version)) {\n",
       "\treturn null\n",
       "      }\n",
       "      return root.Bokeh.versions.get(py_version);\n",
       "    } else if (root.Bokeh.version === py_version) {\n",
       "      return root.Bokeh\n",
       "    }\n",
       "    return null\n",
       "  }\n",
       "  function is_loaded(root) {\n",
       "    var Bokeh = get_bokeh(root)\n",
       "    return (Bokeh != null && Bokeh.Panel !== undefined)\n",
       "  }\n",
       "  if (is_loaded(root)) {\n",
       "    embed_document(root);\n",
       "  } else {\n",
       "    var attempts = 0;\n",
       "    var timer = setInterval(function(root) {\n",
       "      if (is_loaded(root)) {\n",
       "        clearInterval(timer);\n",
       "        embed_document(root);\n",
       "      } else if (document.readyState == \"complete\") {\n",
       "        attempts++;\n",
       "        if (attempts > 200) {\n",
       "          clearInterval(timer);\n",
       "\t  var Bokeh = get_bokeh(root)\n",
       "\t  if (Bokeh == null || Bokeh.Panel == null) {\n",
       "            console.warn(\"Panel: ERROR: Unable to run Panel code because Bokeh or Panel library is missing\");\n",
       "\t  } else {\n",
       "\t    console.warn(\"Panel: WARNING: Attempting to render but not all required libraries could be resolved.\")\n",
       "\t    embed_document(root)\n",
       "\t  }\n",
       "        }\n",
       "      }\n",
       "    }, 25, root)\n",
       "  }\n",
       "})(window);</script>"
      ]
     },
     "metadata": {
      "application/vnd.holoviews_exec.v0+json": {
       "id": "c13dc801-e738-4135-85b4-532192b5d81f"
      }
     },
     "output_type": "display_data"
    }
   ],
   "source": [
    "from bokeh.io import show, output_notebook\n",
    "from bokeh.models import ColumnDataSource, GeoJSONDataSource, ColorBar, HoverTool, Legend, LinearColorMapper, ColorBar\n",
    "from bokeh.plotting import figure\n",
    "from bokeh.palettes import brewer\n",
    "from bokeh.models.glyphs import Line\n",
    "from bokeh.palettes import Category10, Viridis\n",
    "output_notebook()\n",
    "import panel as pn\n",
    "import panel.widgets as pnw\n",
    "pn.extension()"
   ]
  },
  {
   "cell_type": "code",
   "execution_count": 22,
   "metadata": {},
   "outputs": [],
   "source": [
    "class State(enum.IntEnum):\n",
    "    SUSCEPTIBLE = 0\n",
    "    PRESCRIBED = 1\n",
    "    ADDICTION = 2\n",
    "    HEROIN_AD = 3\n",
    "    RECOVERED = 4\n",
    "    REMOVED = 5\n",
    "    "
   ]
  },
  {
   "cell_type": "markdown",
   "metadata": {},
   "source": [
    "## Reattachment Methods"
   ]
  },
  {
   "cell_type": "code",
   "execution_count": 23,
   "metadata": {},
   "outputs": [],
   "source": [
    "### Currently used in SPAHR implementation\n",
    "def er_reattach(G, node, p):\n",
    "    '''Given the model graph G, the node id node, and the graph density p:\n",
    "    removes node from G and reattaches it to nodes in G using probability p'''\n",
    "    G.remove_node(node) # remove existing node and connections\n",
    "    \n",
    "    successes = np.random.binomial(len(G.nodes), p, 1)[0] # draw a number edges from the binomial distribution\n",
    "    if successes == 0: # Guarantee a connection\n",
    "        successes = 1\n",
    "    new_neighbors = np.random.choice(G.nodes, size=successes, replace = False)\n",
    "\n",
    "    G.add_node(node) # re-introduce node\n",
    "\n",
    "    for neighbor in new_neighbors:\n",
    "        G.add_edge(neighbor, node)\n",
    "\n",
    "# not tested but could be cool\n",
    "def pref_attach(G, node, p, alpha):\n",
    "    '''This model removes node from G and reattaches it to some nodes using random sampleing and prefferential attatchment'''\n",
    "    G.remove_node(node) # remove existing node and connections\n",
    "    \n",
    "    successes = np.random.binomial(len(G.nodes), p, 1)[0] # draw a number edges from the binomial distribution\n",
    "    if successes == 0: #Gaurentee a connection\n",
    "        successes = 1\n",
    "    \n",
    "\n",
    "    alpha_successes = np.random.binomial(len(successes), alpha, 1)[0] # draw the number of successes that should use the prefferential attatchment method\n",
    "    successes -= alpha_successes\n",
    "    G.add_node(node) # re-introduce node\n",
    "    new_neighbors = np.random.choice(G.nodes, size=successes, replace = False) # draw the uniformly sampled neighbors\n",
    "    if alpha_successes > 0:\n",
    "        degrees = G.degree\n",
    "        deg_seq = np.array([deg[1] * int(not(deg[0] in new_neighbors)) for deg in degrees])\n",
    "        degree_weights = deg_seq / deg_seq.sum()\n",
    "        new_pref_neighbors = np.random.choice(np.arange(len(degrees)), p = degree_weights, size = alpha_successes)\n",
    "\n",
    "    new_neighbors = list(new_neighbors) + list(new_pref_neighbors)\n",
    "\n",
    "    for neighbor in new_neighbors:\n",
    "        G.add_edge(neighbor, node)\n",
    "\n",
    "# Old implementation of a faulty preferrential attatchment model\n",
    "# def pref_attach(G, node, alpha):\n",
    "#     # reintroduce using preferrential attachment method\n",
    "#     G.remove_node(node)\n",
    "#     degrees = nx.degree(G)\n",
    "\n",
    "#     # determine u using one of two mechanisms\n",
    "    \n",
    "#     if np.random.rand() < alpha: \n",
    "#         deg_seq = np.array([deg[1] for deg in degrees])\n",
    "#         degree_weights = deg_seq / deg_seq.sum()\n",
    "#         u = np.random.choice(np.arange(len(degrees)), p = degree_weights)\n",
    "#     else:\n",
    "#         u = np.random.choice(np.arange(len(degrees)))\n",
    "#     # integer index of new node v\n",
    "#     G.add_node(node)\n",
    "#     # add new edge to graph    \n",
    "#     G.add_edge(u, node)\n"
   ]
  },
  {
   "cell_type": "markdown",
   "metadata": {},
   "source": [
    "## SPAHR Agent"
   ]
  },
  {
   "cell_type": "code",
   "execution_count": 24,
   "metadata": {},
   "outputs": [],
   "source": [
    "def relapse(g1, g2, sigma, w):\n",
    "    if g1 == 0 and g2 == 0:\n",
    "        return sigma/2\n",
    "    return sigma * g1 / (g1 + g2 + w)\n",
    "\n",
    "class SPAHRAgent(Agent): \n",
    "    \"\"\" An agent in an epidemic model.\"\"\"\n",
    "    def __init__(self, unique_id, model):\n",
    "        super().__init__(unique_id, model)\n",
    "        self.state = State.SUSCEPTIBLE\n",
    "\n",
    "    def step(self):\n",
    "        '''Method to update the state of a given node'''\n",
    "        # neighbors of every node\n",
    "        if self.state == State.REMOVED:\n",
    "            # Remove existing node from graph\n",
    "            self.model.deaths += 1\n",
    "            er_reattach(self.model.G, self.pos, self.model.p)\n",
    "            #a = SPAHRAgent(i+1, self)\n",
    "            self.state = State.SUSCEPTIBLE\n",
    "            self.model.counts[State.SUSCEPTIBLE] += 1\n",
    "            self.model.G.nodes[self.pos][\"agent\"] = []\n",
    "            return\n",
    "            \n",
    "\n",
    "        neighbors_nodes = self.model.grid.get_neighbors(self.pos, \n",
    "                                                include_center = False)\n",
    "        \n",
    "        varsSol = self.transitionVars(neighbors_nodes)\n",
    "        sols = np.array(list(varsSol.values())) # each transtion variables calculations\n",
    "        lam = np.sum(sols) # the total of all the transition variables calculations\n",
    "        tr_probs = sols / lam  # each variables contribution normalized by lambda\n",
    "        p_transition = 1 - math.e ** (-lam * self.model.tstep) # probability of transition\n",
    "\n",
    "        # transition occurs\n",
    "        if np.random.rand() < p_transition: \n",
    "            choice = np.random.choice(list(varsSol.keys()), p = tr_probs) # choose which group to transition to based on transition probabilities\n",
    "\n",
    "            self.model.counts[self.state] -= 1\n",
    "            self.state = choice.destination # make choice new destination\n",
    "            self.model.counts[self.state] += 1\n",
    "        \n",
    "        if self.state == State.REMOVED: # if moved to the removed category then run re_attachment\n",
    "            self.step()\n",
    "\n",
    "\n",
    "    def transitionVars(self, neighbor_list):\n",
    "        '''given list of neighbors returns a dictionary with entries transition_var : calculated contribution to Lambda'''\n",
    "        k = len(neighbor_list) * 1.0\n",
    "        \n",
    "        neighbor_counts = dict(Counter([agent.state for agent in neighbor_list]))\n",
    "\n",
    "        neighbor_densities = {State(state): 0 for state in range(6)} # start with every neighbor presents = 0\n",
    "\n",
    "        for state in neighbor_counts.keys(): # calculate existing neighbor densities\n",
    "            neighbor_densities[state] = neighbor_counts[state] / k\n",
    "\n",
    "        global_densities = {State(state): self.model.counts[state] / (self.model.n - 1) for state in range(6)} # needed in some cases where no neighbors exist\n",
    "        possible = self.model.transitions[self.state] # possible transitions from current state\n",
    "        varsSol = {tvr: tvr.func(neighbor_densities, global_densities) for tvr in possible}\n",
    "\n",
    "        return varsSol\n",
    "\n",
    "        \n",
    "    def toJSON(self):        \n",
    "        d = self.unique_id\n",
    "        return json.dumps(d, default=lambda o: o.__dict__, \n",
    "            sort_keys=True, indent=4)"
   ]
  },
  {
   "cell_type": "code",
   "execution_count": 25,
   "metadata": {},
   "outputs": [],
   "source": [
    "import random"
   ]
  },
  {
   "cell_type": "markdown",
   "metadata": {},
   "source": [
    "## SPAHR model class"
   ]
  },
  {
   "cell_type": "code",
   "execution_count": 78,
   "metadata": {},
   "outputs": [],
   "source": [
    "default_data = {\"random_starts\": False, \"n\": 2000, \"drate\": 0.0071, \"tstep\": 0.01, \"od_rateA\": 0.00883, \"od_rateH\": 0.0466, \"S2P\": 0.27, \"P2S\": 2.53, \"S2H\": 0.222, \"S2A_A\": 0.000878, \"S2A_P\": 0.0000654, \"P2A\": 0.00505, \"P2H\": 0.236, \"A2H\": 19.7, \"A2R\":  0.198, \"H2R\": 0.000531, \"sigma\": 0.102, \"omega\": 0.0001, \"S0\": 0.892365, \"P0\": 0.095, \"A0\": 0.0071, \"H0\": 0.000465, \"R0\": 0.00507}\n",
    "\n",
    "class trVar(Model):\n",
    "    \"\"\"A class for transion variables\"\"\"\n",
    "\n",
    "    def __init__(self, value, destination, linear = True, func = None):\n",
    "        self.value = value\n",
    "        self.destination = destination\n",
    "        self.linear = linear\n",
    "\n",
    "        # create a function to get the variables contribution to lambda\n",
    "        if linear:\n",
    "            # linear function just returns its value\n",
    "            self.func = lambda ldata, gdata: self.value\n",
    "\n",
    "        else:\n",
    "            if func == None:\n",
    "                # standard non-linear function that mutliplies its value by the density of neighbors in the destination group\n",
    "                self.func = lambda ldata, gdata: ldata[destination] * self.value \n",
    "            else:\n",
    "                # the last case is if we have created a custom function for this calculation\n",
    "                self.func = func\n",
    "\n",
    "class SPAHRModel(Model):\n",
    "    \"\"\"A model for infection spread.\"\"\"\n",
    "    \n",
    "    def __init__(self, G, data = default_data):\n",
    "\n",
    "        # The network x network\n",
    "        #self.random = random # ****if you get a self.random error uncomment this line****\n",
    "        self.G = G\n",
    "        \n",
    "        self.grid = NetworkGrid(self.G)\n",
    "        \n",
    "        # Basic Params:\n",
    "        self.n = G.number_of_nodes()\n",
    "        self.tstep = data[\"tstep\"] # timestep\n",
    "        self.alpha = 3/5 # used in preferential re-attachment\n",
    "        m = G.number_of_edges()\n",
    "        self.p = 2*m / (self.n * (self.n - 1)) # calculates the density of the given graph used for node reconnnection\n",
    "        self.deaths = 0\n",
    "\n",
    "        # The list of rate variables we may need (comments are the variable names in the paper)\n",
    "        # _______________________Transition Variables______________________________\n",
    "        # Linear Transition variables:\n",
    "        self.drate = trVar(data[\"drate\"], State.REMOVED)        # µ\n",
    "        self.od_rateA = trVar(data[\"od_rateA\"], State.REMOVED)  # µ_A\n",
    "        self.od_rateH = trVar(data[\"od_rateH\"], State.REMOVED)  # µ_H\n",
    "        self.S2P = trVar(data[\"S2P\"], State.PRESCRIBED)         # alpha\n",
    "        self.P2S = trVar(data[\"P2S\"], State.SUSCEPTIBLE)        # epsilon\n",
    "        self.P2A = trVar(data[\"P2A\"], State.ADDICTION)          # Gamma\n",
    "        self.A2R = trVar(data[\"A2R\"] , State.RECOVERED)         # Zeta\n",
    "        self.H2R = trVar(data[\"H2R\"], State.RECOVERED)          # v\n",
    "        # self.R2A = trVar(data[\"sigma\"], State.ADDICTION)        # sigma for R2A transition\n",
    "        # self.R2H = trVar(data[\"sigma\"], State.HEROIN_AD)        # sigma for R2H transition\n",
    "\n",
    "        # Non-Linear Transition variables:\n",
    "        self.S2H = trVar(data[\"S2H\"] , State.HEROIN_AD, linear=False)      # Theta_1\n",
    "        self.S2A_A = trVar(data[\"S2A_A\"], State.ADDICTION, linear=False)   # Beta_A\n",
    "        self.P2H = trVar(data[\"P2H\"], State.HEROIN_AD, linear=False)       # Theta_2\n",
    "        self.A2H = trVar(data[\"A2H\"], State.HEROIN_AD, linear=False)       # Theta_3\n",
    "\n",
    "        # other transition variables (special cases)\n",
    "        self.S2A_P = trVar(data[\"S2A_P\"], State.ADDICTION, linear = False, func = lambda ldata, gdata: ldata[State.PRESCRIBED] * data[\"S2A_A\"])        # Beta_p\n",
    "        self.R2A = trVar(data[\"sigma\"], State.ADDICTION, linear=False, func = lambda ldata, gdata: relapse(gdata[State.ADDICTION], gdata[State.HEROIN_AD], data[\"sigma\"], data[\"omega\"]))        # sigma for R2A transition\n",
    "        self.R2H = trVar(data[\"sigma\"], State.HEROIN_AD, linear=False,func = lambda ldata, gdata: relapse(gdata[State.HEROIN_AD], gdata[State.ADDICTION], data[\"sigma\"], data[\"omega\"]))        # sigma for R2H transition\n",
    "        #_________________________________________________________________________________\n",
    "\n",
    "        # Starting population distribution\n",
    "        self.S0 = data[\"S0\"]\n",
    "        self.P0 = data[\"P0\"]\n",
    "        self.A0 = data[\"A0\"]\n",
    "        self.H0 = data[\"H0\"]\n",
    "        self.R0 = data[\"R0\"]\n",
    "        self.proportions = [self.S0, self.P0, self.A0, self.H0, self.R0, 0]\n",
    "        \n",
    "        # each state stores its outward transition variables\n",
    "        self.transitions = {\n",
    "            State.SUSCEPTIBLE: [self.drate, self.S2A_A, self.S2A_P, self.S2H, self.S2P],\n",
    "            State.PRESCRIBED:  [self.drate, self.P2A, self.P2H, self.P2S],\n",
    "            State.ADDICTION:   [self.drate, self.od_rateA, self.A2H, self.A2R],\n",
    "            State.HEROIN_AD:   [self.drate, self.od_rateH, self.H2R],\n",
    "            State.RECOVERED:   [self.drate, self.R2A, self.R2H],\n",
    "            State.REMOVED:     [] # removed should have its own case (fancy new node addition thing)\n",
    "        }\n",
    "        \n",
    "        self.schedule = RandomActivation(self)\n",
    "        self.running = True\n",
    "        self.counts = {State(i): 0 for i in range(6)}\n",
    "        \n",
    "        # Create agents\n",
    "        if data[\"random_starts\"] == True:\n",
    "            for i, node in enumerate(self.G.nodes()):\n",
    "                a = SPAHRAgent(i+1, self)\n",
    "                self.schedule.add(a)\n",
    "                #add agent\n",
    "                self.grid.place_agent(a, node)\n",
    "\n",
    "                #make some agents infected at start # _________________HOW DO THEY INITIALIZE IN PAPER?______________\n",
    "                initial_state = np.random.choice([0,1,2,3,4,5], p=self.proportions)\n",
    "                a.state = State(initial_state)\n",
    "                self.counts[a.state] += 1\n",
    "        else:\n",
    "            populations = [int(prop * self.n) for prop in self.proportions] # get the actual starting populations of each category\n",
    "            populations[0] += self.n - sum(populations) # add the potential remainder to suseptible group\n",
    "            node_list = list(self.G.nodes).copy()\n",
    "            shuffled_nodes = random.shuffle(node_list)\n",
    "            group = 0\n",
    "            for i, node in enumerate(node_list):\n",
    "                a = SPAHRAgent(i+1, self)\n",
    "                self.schedule.add(a)\n",
    "                #add agent\n",
    "                self.grid.place_agent(a, node)\n",
    "\n",
    "                if populations[group] == 0:\n",
    "                    group += 1 # if current group population empty move to next\n",
    "                \n",
    "                populations[group] -= 1\n",
    "\n",
    "                a.state = State(group)\n",
    "                self.counts[a.state] += 1\n",
    "        \n",
    "        self.datacollector = DataCollector(\n",
    "            agent_reporters={\"State\": \"state\"})\n",
    "        \n",
    "        print(\"Groupings: \", self.counts)\n",
    "         \n",
    "    \n",
    "    # def get_recovery_time(self):\n",
    "    #     return int(self.random.normalvariate(self.recovery_days,self.recovery_sd))\n",
    "    \n",
    "    def step(self):\n",
    "        if self.counts[State.HEROIN_AD] == 0:\n",
    "            while(True):\n",
    "                a = np.random.choice(list(self.schedule._agents))\n",
    "                if a.state == State.SUSCEPTIBLE:\n",
    "                    a.state = State.HEROIN_AD\n",
    "                    self.counts[State.SUSCEPTIBLE] -= 1\n",
    "                    self.counts[State.HEROIN_AD] += 1\n",
    "                    break\n",
    "                \n",
    "        self.datacollector.collect(self)\n",
    "        # print(len(self.schedule._agents)) # schedule is not empty\n",
    "        self.schedule.step()"
   ]
  },
  {
   "cell_type": "markdown",
   "metadata": {},
   "source": [
    "# Model Exploration and Associated Functions"
   ]
  },
  {
   "cell_type": "code",
   "execution_count": 79,
   "metadata": {},
   "outputs": [
    {
     "name": "stdout",
     "output_type": "stream",
     "text": [
      "Groupings:  {<State.SUSCEPTIBLE: 0>: 46, <State.PRESCRIBED: 1>: 4, <State.ADDICTION: 2>: 0, <State.HEROIN_AD: 3>: 0, <State.RECOVERED: 4>: 0, <State.REMOVED: 5>: 0}\n"
     ]
    },
    {
     "data": {
      "text/plain": [
       "<__main__.SPAHRModel at 0x120767580>"
      ]
     },
     "execution_count": 79,
     "metadata": {},
     "output_type": "execute_result"
    }
   ],
   "source": [
    "G = nx.erdos_renyi_graph(50, 3/(50-1))\n",
    "model = SPAHRModel(G)\n",
    "model.step()\n",
    "model"
   ]
  },
  {
   "cell_type": "code",
   "execution_count": 80,
   "metadata": {},
   "outputs": [],
   "source": [
    "def get_column_data(model):\n",
    "    #pivot the model dataframe to get states count at each step\n",
    "    agent_state = model.datacollector.get_agent_vars_dataframe()\n",
    "    X = pd.pivot_table(agent_state.reset_index(),index='Step',columns='State',aggfunc=np.size,fill_value=0)    \n",
    "    labels = ['Susceptible','Perscribed','Addicted', 'Heroin Addict', 'Rehab', 'Removed']\n",
    "    X.columns = labels[:len(X.columns)]\n",
    "    return X\n",
    "    \n",
    "def plot_states(model,ax):    \n",
    "    steps = model.schedule.steps\n",
    "    X = get_column_data(model)\n",
    "    X.plot(ax=ax,lw=3,alpha=0.8)\n",
    "    return f\n",
    "\n",
    "def get_steady_state(model, n):\n",
    "    \"\"\"\n",
    "    returns the steady state values for our five categories based on the last n steps\n",
    "    \"\"\"\n",
    "    data = get_column_data(model)[-n:]\n",
    "    means = data.mean().to_numpy()\n",
    "    sems = data.sem().to_numpy()\n",
    "    \n",
    "    return (means, sems)\n"
   ]
  },
  {
   "cell_type": "markdown",
   "metadata": {},
   "source": [
    "## Erdos Renyi Graph Exploration"
   ]
  },
  {
   "cell_type": "code",
   "execution_count": 88,
   "metadata": {},
   "outputs": [
    {
     "name": "stdout",
     "output_type": "stream",
     "text": [
      "Groupings:  {<State.SUSCEPTIBLE: 0>: 1786, <State.PRESCRIBED: 1>: 190, <State.ADDICTION: 2>: 14, <State.HEROIN_AD: 3>: 10, <State.RECOVERED: 4>: 0, <State.REMOVED: 5>: 0}\n",
      "1\n",
      "501\n",
      "1001\n",
      "1501\n",
      "2001\n",
      "2501\n",
      "3001\n",
      "3501\n",
      "4001\n",
      "4501\n",
      "231.2054841518402\n"
     ]
    }
   ],
   "source": [
    "# Warning This Cell is a time Commitment (rn abt 4 min)\n",
    "G = nx.erdos_renyi_graph(n = 2000, p = 0.01)\n",
    "model = SPAHRModel(G)\n",
    "steps = 5000\n",
    "st = time.time()\n",
    "for i in range(steps):\n",
    "    if i % 500 == 0:\n",
    "        print(i+1)\n",
    "    model.step()\n",
    "print (time.time()-st)\n",
    "agent_state = model.datacollector.get_agent_vars_dataframe()\n"
   ]
  },
  {
   "cell_type": "code",
   "execution_count": 89,
   "metadata": {},
   "outputs": [
    {
     "data": {
      "image/png": "[encoded data removed]",
      "text/plain": [
       "<Figure size 800x400 with 1 Axes>"
      ]
     },
     "metadata": {},
     "output_type": "display_data"
    }
   ],
   "source": [
    "f,ax=plt.subplots(1,1,figsize=(8,4))\n",
    "plot_states(model,ax)\n",
    "plt.savefig('SIR.png',dpi=150)"
   ]
  },
  {
   "cell_type": "markdown",
   "metadata": {},
   "source": [
    "## Get varying values\n",
    "\n",
    "idea: for every combination of starting conditions return the proprtion of H+A steady state."
   ]
  },
  {
   "cell_type": "code",
   "execution_count": 140,
   "metadata": {},
   "outputs": [],
   "source": [
    "# structure inputs as follows\n",
    "input_data = [(State.ADDICTION, [.03, .06, .09, .12, .15]), (State.PRESCRIBED, [.15, .18, .21, .24, .27])]\n",
    "\n",
    "start_names = [\"S0\", \"P0\", \"A0\", \"H0\", \"R0\"] # used in below functions\n",
    "state_map = {State(i): start_names[i] for i in range(len(start_names))} # map states to their respective starting population variables\n",
    "\n",
    "def rebalance(edited, existing):\n",
    "    '''given edited proportions and the existing proportions,\n",
    "    properly scales the existing proportions so the total sum remains 1'''\n",
    "    return existing * (1 - np.sum(edited))/np.sum(existing)\n",
    "\n",
    "def run_steady_states(edited_tuple, name_order, existing, model_data, G, steps, n, count):\n",
    "    '''Runs a model on network G updating model_data according to new starting populations'''\n",
    "\n",
    "    reweighted = rebalance(np.array(edited_tuple), existing) # reweight populations to add to 1\n",
    "    params = list(edited_tuple) + list(reweighted)\n",
    "\n",
    "    for i in range(len(name_order)): # add these populations to the model_data\n",
    "        model_data[name_order[i]] = params[i]\n",
    "\n",
    "    count[0] += 1\n",
    "    print(f\"Running model {count[0]} with params: \", {state: model_data[state] for state in start_names})\n",
    "    model = SPAHRModel(G)\n",
    "\n",
    "    for i in range(steps):\n",
    "        if i % 500 == 0:\n",
    "            print(f\"Model {count[0]} completed {i} steps\")\n",
    "        model.step()\n",
    "    print(f\"Model {count[0]} complete \\n\")\n",
    "    ss = get_steady_state(model, n)\n",
    "    return ss[0]\n",
    "\n",
    "\n",
    "    \n",
    "\n",
    "\n",
    "def vary_values(G, start_data, model_data, steps = 5000, n = 100):\n",
    "    '''takes in a list (size 2) start_data with tuple entries (STATE, [starting proportions ...])'''\n",
    "    \n",
    "    combinations = np.array([[(S1_0, S2_0) for S2_0 in start_data[1][1]] for S1_0 in start_data[0][1]])\n",
    "    group1, group2 = [state_map[state[0]] for state in start_data] # get the states we are modifying\n",
    "    other_groups = {name: model_data[name] for name in start_names if name != group1 and name != group2}\n",
    "    name_order = [group1, group2] + list(other_groups.keys())\n",
    "    existing = np.array(list(other_groups.values()))\n",
    "\n",
    "    count = {0:0} # counter for checking which model is running (a dictionary so it can be passed by reference)\n",
    "\n",
    "    print(f\"Calculating steady states for {len(start_data[0][1] * len(start_data[1][1]))} models\")\n",
    "    print(f\"Calculating for the following values of {(group1, group2)}:\")\n",
    "    print(np.apply_along_axis(lambda x: f\"({x[0]}, {x[1]})\", axis = 2, arr = combinations))\n",
    "    gcount = count\n",
    "\n",
    "    return np.apply_along_axis(lambda x: run_steady_states(x, name_order, existing, model_data, G.copy(), steps, n, count), axis = 2, arr = combinations) # plan run the combinations matrix through our special function\n"
   ]
  },
  {
   "cell_type": "code",
   "execution_count": 128,
   "metadata": {},
   "outputs": [
    {
     "name": "stdout",
     "output_type": "stream",
     "text": [
      "Calculating steady states for 25 models\n",
      "Calculating for the following values of ('A0', 'P0'):\n",
      "[['(0.03, 0.15)' '(0.03, 0.18)' '(0.03, 0.21)' '(0.03, 0.24)'\n",
      "  '(0.03, 0.27)']\n",
      " ['(0.06, 0.15)' '(0.06, 0.18)' '(0.06, 0.21)' '(0.06, 0.24)'\n",
      "  '(0.06, 0.27)']\n",
      " ['(0.09, 0.15)' '(0.09, 0.18)' '(0.09, 0.21)' '(0.09, 0.24)'\n",
      "  '(0.09, 0.27)']\n",
      " ['(0.12, 0.15)' '(0.12, 0.18)' '(0.12, 0.21)' '(0.12, 0.24)'\n",
      "  '(0.12, 0.27)']\n",
      " ['(0.15, 0.15)' '(0.15, 0.18)' '(0.15, 0.21)' '(0.15, 0.24)'\n",
      "  '(0.15, 0.27)']]\n",
      "Running model 1 with params:  [0.03, 0.15, 0.814945205479452, 0.00042465753424657536, 0.00463013698630137]\n",
      "Groupings:  {<State.SUSCEPTIBLE: 0>: 448, <State.PRESCRIBED: 1>: 47, <State.ADDICTION: 2>: 3, <State.HEROIN_AD: 3>: 2, <State.RECOVERED: 4>: 0, <State.REMOVED: 5>: 0}\n",
      "Model 1 completed 0 steps\n"
     ]
    },
    {
     "name": "stderr",
     "output_type": "stream",
     "text": [
      "/Users/theojulien/Library/Python/3.9/lib/python/site-packages/mesa/agent.py:52: FutureWarning: The Mesa Model class was not initialized. In the future, you need to explicitly initialize the Model by calling super().__init__() on initialization.\n",
      "  self.model.register_agent(self)\n"
     ]
    },
    {
     "name": "stdout",
     "output_type": "stream",
     "text": [
      "Model 1 completed 500 steps\n",
      "Model 1 completed 1000 steps\n",
      "Model 1 completed 1500 steps\n",
      "Model 1 complete \n",
      "\n",
      "Running model 1 with params:  [0.03, 0.18, 0.7851301369863014, 0.00040912128299365187, 0.004460741730704978]\n",
      "Groupings:  {<State.SUSCEPTIBLE: 0>: 448, <State.PRESCRIBED: 1>: 47, <State.ADDICTION: 2>: 3, <State.HEROIN_AD: 3>: 2, <State.RECOVERED: 4>: 0, <State.REMOVED: 5>: 0}\n",
      "Model 1 completed 0 steps\n"
     ]
    },
    {
     "name": "stderr",
     "output_type": "stream",
     "text": [
      "/Users/theojulien/Library/Python/3.9/lib/python/site-packages/mesa/agent.py:52: FutureWarning: The Mesa Model class was not initialized. In the future, you need to explicitly initialize the Model by calling super().__init__() on initialization.\n",
      "  self.model.register_agent(self)\n"
     ]
    },
    {
     "name": "stdout",
     "output_type": "stream",
     "text": [
      "Model 1 completed 500 steps\n",
      "Model 1 completed 1000 steps\n",
      "Model 1 completed 1500 steps\n",
      "Model 1 complete \n",
      "\n",
      "Running model 1 with params:  [0.03, 0.21, 0.7553150684931506, 0.0003935850317407284, 0.004291346475108587]\n",
      "Groupings:  {<State.SUSCEPTIBLE: 0>: 448, <State.PRESCRIBED: 1>: 47, <State.ADDICTION: 2>: 3, <State.HEROIN_AD: 3>: 2, <State.RECOVERED: 4>: 0, <State.REMOVED: 5>: 0}\n",
      "Model 1 completed 0 steps\n"
     ]
    },
    {
     "name": "stderr",
     "output_type": "stream",
     "text": [
      "/Users/theojulien/Library/Python/3.9/lib/python/site-packages/mesa/agent.py:52: FutureWarning: The Mesa Model class was not initialized. In the future, you need to explicitly initialize the Model by calling super().__init__() on initialization.\n",
      "  self.model.register_agent(self)\n"
     ]
    },
    {
     "name": "stdout",
     "output_type": "stream",
     "text": [
      "Model 1 completed 500 steps\n",
      "Model 1 completed 1000 steps\n",
      "Model 1 completed 1500 steps\n",
      "Model 1 complete \n",
      "\n",
      "Running model 1 with params:  [0.03, 0.24, 0.7254999999999999, 0.0003780487804878049, 0.0041219512195121944]\n",
      "Groupings:  {<State.SUSCEPTIBLE: 0>: 448, <State.PRESCRIBED: 1>: 47, <State.ADDICTION: 2>: 3, <State.HEROIN_AD: 3>: 2, <State.RECOVERED: 4>: 0, <State.REMOVED: 5>: 0}\n",
      "Model 1 completed 0 steps\n"
     ]
    },
    {
     "name": "stderr",
     "output_type": "stream",
     "text": [
      "/Users/theojulien/Library/Python/3.9/lib/python/site-packages/mesa/agent.py:52: FutureWarning: The Mesa Model class was not initialized. In the future, you need to explicitly initialize the Model by calling super().__init__() on initialization.\n",
      "  self.model.register_agent(self)\n"
     ]
    },
    {
     "name": "stdout",
     "output_type": "stream",
     "text": [
      "Model 1 completed 500 steps\n",
      "Model 1 completed 1000 steps\n",
      "Model 1 completed 1500 steps\n",
      "Model 1 complete \n",
      "\n",
      "Running model 1 with params:  [0.03, 0.27, 0.6956849315068492, 0.0003625125292348814, 0.003952555963915803]\n",
      "Groupings:  {<State.SUSCEPTIBLE: 0>: 448, <State.PRESCRIBED: 1>: 47, <State.ADDICTION: 2>: 3, <State.HEROIN_AD: 3>: 2, <State.RECOVERED: 4>: 0, <State.REMOVED: 5>: 0}\n",
      "Model 1 completed 0 steps\n"
     ]
    },
    {
     "name": "stderr",
     "output_type": "stream",
     "text": [
      "/Users/theojulien/Library/Python/3.9/lib/python/site-packages/mesa/agent.py:52: FutureWarning: The Mesa Model class was not initialized. In the future, you need to explicitly initialize the Model by calling super().__init__() on initialization.\n",
      "  self.model.register_agent(self)\n"
     ]
    },
    {
     "name": "stdout",
     "output_type": "stream",
     "text": [
      "Model 1 completed 500 steps\n",
      "Model 1 completed 1000 steps\n",
      "Model 1 completed 1500 steps\n",
      "Model 1 complete \n",
      "\n",
      "Running model 1 with params:  [0.06, 0.15, 0.7851301369863014, 0.00040912128299365187, 0.004460741730704978]\n",
      "Groupings:  {<State.SUSCEPTIBLE: 0>: 448, <State.PRESCRIBED: 1>: 47, <State.ADDICTION: 2>: 3, <State.HEROIN_AD: 3>: 2, <State.RECOVERED: 4>: 0, <State.REMOVED: 5>: 0}\n",
      "Model 1 completed 0 steps\n"
     ]
    },
    {
     "name": "stderr",
     "output_type": "stream",
     "text": [
      "/Users/theojulien/Library/Python/3.9/lib/python/site-packages/mesa/agent.py:52: FutureWarning: The Mesa Model class was not initialized. In the future, you need to explicitly initialize the Model by calling super().__init__() on initialization.\n",
      "  self.model.register_agent(self)\n"
     ]
    },
    {
     "name": "stdout",
     "output_type": "stream",
     "text": [
      "Model 1 completed 500 steps\n",
      "Model 1 completed 1000 steps\n",
      "Model 1 completed 1500 steps\n",
      "Model 1 complete \n",
      "\n",
      "Running model 1 with params:  [0.06, 0.18, 0.7553150684931506, 0.0003935850317407284, 0.004291346475108587]\n",
      "Groupings:  {<State.SUSCEPTIBLE: 0>: 448, <State.PRESCRIBED: 1>: 47, <State.ADDICTION: 2>: 3, <State.HEROIN_AD: 3>: 2, <State.RECOVERED: 4>: 0, <State.REMOVED: 5>: 0}\n",
      "Model 1 completed 0 steps\n"
     ]
    },
    {
     "name": "stderr",
     "output_type": "stream",
     "text": [
      "/Users/theojulien/Library/Python/3.9/lib/python/site-packages/mesa/agent.py:52: FutureWarning: The Mesa Model class was not initialized. In the future, you need to explicitly initialize the Model by calling super().__init__() on initialization.\n",
      "  self.model.register_agent(self)\n"
     ]
    },
    {
     "name": "stdout",
     "output_type": "stream",
     "text": [
      "Model 1 completed 500 steps\n",
      "Model 1 completed 1000 steps\n",
      "Model 1 completed 1500 steps\n",
      "Model 1 complete \n",
      "\n",
      "Running model 1 with params:  [0.06, 0.21, 0.7254999999999999, 0.0003780487804878049, 0.0041219512195121944]\n",
      "Groupings:  {<State.SUSCEPTIBLE: 0>: 448, <State.PRESCRIBED: 1>: 47, <State.ADDICTION: 2>: 3, <State.HEROIN_AD: 3>: 2, <State.RECOVERED: 4>: 0, <State.REMOVED: 5>: 0}\n",
      "Model 1 completed 0 steps\n"
     ]
    },
    {
     "name": "stderr",
     "output_type": "stream",
     "text": [
      "/Users/theojulien/Library/Python/3.9/lib/python/site-packages/mesa/agent.py:52: FutureWarning: The Mesa Model class was not initialized. In the future, you need to explicitly initialize the Model by calling super().__init__() on initialization.\n",
      "  self.model.register_agent(self)\n"
     ]
    },
    {
     "name": "stdout",
     "output_type": "stream",
     "text": [
      "Model 1 completed 500 steps\n",
      "Model 1 completed 1000 steps\n",
      "Model 1 completed 1500 steps\n",
      "Model 1 complete \n",
      "\n",
      "Running model 1 with params:  [0.06, 0.24, 0.6956849315068492, 0.0003625125292348814, 0.003952555963915803]\n",
      "Groupings:  {<State.SUSCEPTIBLE: 0>: 448, <State.PRESCRIBED: 1>: 47, <State.ADDICTION: 2>: 3, <State.HEROIN_AD: 3>: 2, <State.RECOVERED: 4>: 0, <State.REMOVED: 5>: 0}\n",
      "Model 1 completed 0 steps\n"
     ]
    },
    {
     "name": "stderr",
     "output_type": "stream",
     "text": [
      "/Users/theojulien/Library/Python/3.9/lib/python/site-packages/mesa/agent.py:52: FutureWarning: The Mesa Model class was not initialized. In the future, you need to explicitly initialize the Model by calling super().__init__() on initialization.\n",
      "  self.model.register_agent(self)\n"
     ]
    },
    {
     "name": "stdout",
     "output_type": "stream",
     "text": [
      "Model 1 completed 500 steps\n",
      "Model 1 completed 1000 steps\n",
      "Model 1 completed 1500 steps\n",
      "Model 1 complete \n",
      "\n",
      "Running model 1 with params:  [0.06, 0.27, 0.6658698630136985, 0.0003469762779819579, 0.003783160708319411]\n",
      "Groupings:  {<State.SUSCEPTIBLE: 0>: 448, <State.PRESCRIBED: 1>: 47, <State.ADDICTION: 2>: 3, <State.HEROIN_AD: 3>: 2, <State.RECOVERED: 4>: 0, <State.REMOVED: 5>: 0}\n",
      "Model 1 completed 0 steps\n"
     ]
    },
    {
     "name": "stderr",
     "output_type": "stream",
     "text": [
      "/Users/theojulien/Library/Python/3.9/lib/python/site-packages/mesa/agent.py:52: FutureWarning: The Mesa Model class was not initialized. In the future, you need to explicitly initialize the Model by calling super().__init__() on initialization.\n",
      "  self.model.register_agent(self)\n"
     ]
    },
    {
     "name": "stdout",
     "output_type": "stream",
     "text": [
      "Model 1 completed 500 steps\n",
      "Model 1 completed 1000 steps\n",
      "Model 1 completed 1500 steps\n",
      "Model 1 complete \n",
      "\n",
      "Running model 1 with params:  [0.09, 0.15, 0.7553150684931506, 0.0003935850317407284, 0.004291346475108587]\n",
      "Groupings:  {<State.SUSCEPTIBLE: 0>: 448, <State.PRESCRIBED: 1>: 47, <State.ADDICTION: 2>: 3, <State.HEROIN_AD: 3>: 2, <State.RECOVERED: 4>: 0, <State.REMOVED: 5>: 0}\n",
      "Model 1 completed 0 steps\n"
     ]
    },
    {
     "name": "stderr",
     "output_type": "stream",
     "text": [
      "/Users/theojulien/Library/Python/3.9/lib/python/site-packages/mesa/agent.py:52: FutureWarning: The Mesa Model class was not initialized. In the future, you need to explicitly initialize the Model by calling super().__init__() on initialization.\n",
      "  self.model.register_agent(self)\n"
     ]
    },
    {
     "name": "stdout",
     "output_type": "stream",
     "text": [
      "Model 1 completed 500 steps\n",
      "Model 1 completed 1000 steps\n",
      "Model 1 completed 1500 steps\n",
      "Model 1 complete \n",
      "\n",
      "Running model 1 with params:  [0.09, 0.18, 0.7254999999999999, 0.0003780487804878049, 0.0041219512195121944]\n",
      "Groupings:  {<State.SUSCEPTIBLE: 0>: 448, <State.PRESCRIBED: 1>: 47, <State.ADDICTION: 2>: 3, <State.HEROIN_AD: 3>: 2, <State.RECOVERED: 4>: 0, <State.REMOVED: 5>: 0}\n",
      "Model 1 completed 0 steps\n"
     ]
    },
    {
     "name": "stderr",
     "output_type": "stream",
     "text": [
      "/Users/theojulien/Library/Python/3.9/lib/python/site-packages/mesa/agent.py:52: FutureWarning: The Mesa Model class was not initialized. In the future, you need to explicitly initialize the Model by calling super().__init__() on initialization.\n",
      "  self.model.register_agent(self)\n"
     ]
    },
    {
     "name": "stdout",
     "output_type": "stream",
     "text": [
      "Model 1 completed 500 steps\n",
      "Model 1 completed 1000 steps\n",
      "Model 1 completed 1500 steps\n",
      "Model 1 complete \n",
      "\n",
      "Running model 1 with params:  [0.09, 0.21, 0.6956849315068492, 0.0003625125292348814, 0.003952555963915803]\n",
      "Groupings:  {<State.SUSCEPTIBLE: 0>: 448, <State.PRESCRIBED: 1>: 47, <State.ADDICTION: 2>: 3, <State.HEROIN_AD: 3>: 2, <State.RECOVERED: 4>: 0, <State.REMOVED: 5>: 0}\n",
      "Model 1 completed 0 steps\n"
     ]
    },
    {
     "name": "stderr",
     "output_type": "stream",
     "text": [
      "/Users/theojulien/Library/Python/3.9/lib/python/site-packages/mesa/agent.py:52: FutureWarning: The Mesa Model class was not initialized. In the future, you need to explicitly initialize the Model by calling super().__init__() on initialization.\n",
      "  self.model.register_agent(self)\n"
     ]
    },
    {
     "name": "stdout",
     "output_type": "stream",
     "text": [
      "Model 1 completed 500 steps\n",
      "Model 1 completed 1000 steps\n",
      "Model 1 completed 1500 steps\n",
      "Model 1 complete \n",
      "\n",
      "Running model 1 with params:  [0.09, 0.24, 0.6658698630136985, 0.0003469762779819579, 0.0037831607083194116]\n",
      "Groupings:  {<State.SUSCEPTIBLE: 0>: 448, <State.PRESCRIBED: 1>: 47, <State.ADDICTION: 2>: 3, <State.HEROIN_AD: 3>: 2, <State.RECOVERED: 4>: 0, <State.REMOVED: 5>: 0}\n",
      "Model 1 completed 0 steps\n"
     ]
    },
    {
     "name": "stderr",
     "output_type": "stream",
     "text": [
      "/Users/theojulien/Library/Python/3.9/lib/python/site-packages/mesa/agent.py:52: FutureWarning: The Mesa Model class was not initialized. In the future, you need to explicitly initialize the Model by calling super().__init__() on initialization.\n",
      "  self.model.register_agent(self)\n"
     ]
    },
    {
     "name": "stdout",
     "output_type": "stream",
     "text": [
      "Model 1 completed 500 steps\n",
      "Model 1 completed 1000 steps\n",
      "Model 1 completed 1500 steps\n",
      "Model 1 complete \n",
      "\n",
      "Running model 1 with params:  [0.09, 0.27, 0.6360547945205479, 0.0003314400267290344, 0.00361376545272302]\n",
      "Groupings:  {<State.SUSCEPTIBLE: 0>: 448, <State.PRESCRIBED: 1>: 47, <State.ADDICTION: 2>: 3, <State.HEROIN_AD: 3>: 2, <State.RECOVERED: 4>: 0, <State.REMOVED: 5>: 0}\n",
      "Model 1 completed 0 steps\n"
     ]
    },
    {
     "name": "stderr",
     "output_type": "stream",
     "text": [
      "/Users/theojulien/Library/Python/3.9/lib/python/site-packages/mesa/agent.py:52: FutureWarning: The Mesa Model class was not initialized. In the future, you need to explicitly initialize the Model by calling super().__init__() on initialization.\n",
      "  self.model.register_agent(self)\n"
     ]
    },
    {
     "name": "stdout",
     "output_type": "stream",
     "text": [
      "Model 1 completed 500 steps\n",
      "Model 1 completed 1000 steps\n",
      "Model 1 completed 1500 steps\n",
      "Model 1 complete \n",
      "\n",
      "Running model 1 with params:  [0.12, 0.15, 0.7254999999999999, 0.0003780487804878049, 0.0041219512195121944]\n",
      "Groupings:  {<State.SUSCEPTIBLE: 0>: 448, <State.PRESCRIBED: 1>: 47, <State.ADDICTION: 2>: 3, <State.HEROIN_AD: 3>: 2, <State.RECOVERED: 4>: 0, <State.REMOVED: 5>: 0}\n",
      "Model 1 completed 0 steps\n"
     ]
    },
    {
     "name": "stderr",
     "output_type": "stream",
     "text": [
      "/Users/theojulien/Library/Python/3.9/lib/python/site-packages/mesa/agent.py:52: FutureWarning: The Mesa Model class was not initialized. In the future, you need to explicitly initialize the Model by calling super().__init__() on initialization.\n",
      "  self.model.register_agent(self)\n"
     ]
    },
    {
     "name": "stdout",
     "output_type": "stream",
     "text": [
      "Model 1 completed 500 steps\n",
      "Model 1 completed 1000 steps\n",
      "Model 1 completed 1500 steps\n",
      "Model 1 complete \n",
      "\n",
      "Running model 1 with params:  [0.12, 0.18, 0.6956849315068492, 0.0003625125292348814, 0.003952555963915803]\n",
      "Groupings:  {<State.SUSCEPTIBLE: 0>: 448, <State.PRESCRIBED: 1>: 47, <State.ADDICTION: 2>: 3, <State.HEROIN_AD: 3>: 2, <State.RECOVERED: 4>: 0, <State.REMOVED: 5>: 0}\n",
      "Model 1 completed 0 steps\n"
     ]
    },
    {
     "name": "stderr",
     "output_type": "stream",
     "text": [
      "/Users/theojulien/Library/Python/3.9/lib/python/site-packages/mesa/agent.py:52: FutureWarning: The Mesa Model class was not initialized. In the future, you need to explicitly initialize the Model by calling super().__init__() on initialization.\n",
      "  self.model.register_agent(self)\n"
     ]
    },
    {
     "name": "stdout",
     "output_type": "stream",
     "text": [
      "Model 1 completed 500 steps\n",
      "Model 1 completed 1000 steps\n",
      "Model 1 completed 1500 steps\n",
      "Model 1 complete \n",
      "\n",
      "Running model 1 with params:  [0.12, 0.21, 0.6658698630136985, 0.0003469762779819579, 0.0037831607083194116]\n",
      "Groupings:  {<State.SUSCEPTIBLE: 0>: 448, <State.PRESCRIBED: 1>: 47, <State.ADDICTION: 2>: 3, <State.HEROIN_AD: 3>: 2, <State.RECOVERED: 4>: 0, <State.REMOVED: 5>: 0}\n",
      "Model 1 completed 0 steps\n"
     ]
    },
    {
     "name": "stderr",
     "output_type": "stream",
     "text": [
      "/Users/theojulien/Library/Python/3.9/lib/python/site-packages/mesa/agent.py:52: FutureWarning: The Mesa Model class was not initialized. In the future, you need to explicitly initialize the Model by calling super().__init__() on initialization.\n",
      "  self.model.register_agent(self)\n"
     ]
    },
    {
     "name": "stdout",
     "output_type": "stream",
     "text": [
      "Model 1 completed 500 steps\n",
      "Model 1 completed 1000 steps\n",
      "Model 1 completed 1500 steps\n",
      "Model 1 complete \n",
      "\n",
      "Running model 1 with params:  [0.12, 0.24, 0.6360547945205479, 0.0003314400267290344, 0.00361376545272302]\n",
      "Groupings:  {<State.SUSCEPTIBLE: 0>: 448, <State.PRESCRIBED: 1>: 47, <State.ADDICTION: 2>: 3, <State.HEROIN_AD: 3>: 2, <State.RECOVERED: 4>: 0, <State.REMOVED: 5>: 0}\n",
      "Model 1 completed 0 steps\n"
     ]
    },
    {
     "name": "stderr",
     "output_type": "stream",
     "text": [
      "/Users/theojulien/Library/Python/3.9/lib/python/site-packages/mesa/agent.py:52: FutureWarning: The Mesa Model class was not initialized. In the future, you need to explicitly initialize the Model by calling super().__init__() on initialization.\n",
      "  self.model.register_agent(self)\n"
     ]
    },
    {
     "name": "stdout",
     "output_type": "stream",
     "text": [
      "Model 1 completed 500 steps\n",
      "Model 1 completed 1000 steps\n",
      "Model 1 completed 1500 steps\n",
      "Model 1 complete \n",
      "\n",
      "Running model 1 with params:  [0.12, 0.27, 0.6062397260273972, 0.000315903775476111, 0.0034443701971266284]\n",
      "Groupings:  {<State.SUSCEPTIBLE: 0>: 448, <State.PRESCRIBED: 1>: 47, <State.ADDICTION: 2>: 3, <State.HEROIN_AD: 3>: 2, <State.RECOVERED: 4>: 0, <State.REMOVED: 5>: 0}\n",
      "Model 1 completed 0 steps\n"
     ]
    },
    {
     "name": "stderr",
     "output_type": "stream",
     "text": [
      "/Users/theojulien/Library/Python/3.9/lib/python/site-packages/mesa/agent.py:52: FutureWarning: The Mesa Model class was not initialized. In the future, you need to explicitly initialize the Model by calling super().__init__() on initialization.\n",
      "  self.model.register_agent(self)\n"
     ]
    },
    {
     "name": "stdout",
     "output_type": "stream",
     "text": [
      "Model 1 completed 500 steps\n",
      "Model 1 completed 1000 steps\n",
      "Model 1 completed 1500 steps\n",
      "Model 1 complete \n",
      "\n",
      "Running model 1 with params:  [0.15, 0.15, 0.6956849315068492, 0.0003625125292348814, 0.003952555963915803]\n",
      "Groupings:  {<State.SUSCEPTIBLE: 0>: 448, <State.PRESCRIBED: 1>: 47, <State.ADDICTION: 2>: 3, <State.HEROIN_AD: 3>: 2, <State.RECOVERED: 4>: 0, <State.REMOVED: 5>: 0}\n",
      "Model 1 completed 0 steps\n"
     ]
    },
    {
     "name": "stderr",
     "output_type": "stream",
     "text": [
      "/Users/theojulien/Library/Python/3.9/lib/python/site-packages/mesa/agent.py:52: FutureWarning: The Mesa Model class was not initialized. In the future, you need to explicitly initialize the Model by calling super().__init__() on initialization.\n",
      "  self.model.register_agent(self)\n"
     ]
    },
    {
     "name": "stdout",
     "output_type": "stream",
     "text": [
      "Model 1 completed 500 steps\n",
      "Model 1 completed 1000 steps\n",
      "Model 1 completed 1500 steps\n",
      "Model 1 complete \n",
      "\n",
      "Running model 1 with params:  [0.15, 0.18, 0.6658698630136985, 0.0003469762779819579, 0.0037831607083194116]\n",
      "Groupings:  {<State.SUSCEPTIBLE: 0>: 448, <State.PRESCRIBED: 1>: 47, <State.ADDICTION: 2>: 3, <State.HEROIN_AD: 3>: 2, <State.RECOVERED: 4>: 0, <State.REMOVED: 5>: 0}\n",
      "Model 1 completed 0 steps\n"
     ]
    },
    {
     "name": "stderr",
     "output_type": "stream",
     "text": [
      "/Users/theojulien/Library/Python/3.9/lib/python/site-packages/mesa/agent.py:52: FutureWarning: The Mesa Model class was not initialized. In the future, you need to explicitly initialize the Model by calling super().__init__() on initialization.\n",
      "  self.model.register_agent(self)\n"
     ]
    },
    {
     "name": "stdout",
     "output_type": "stream",
     "text": [
      "Model 1 completed 500 steps\n",
      "Model 1 completed 1000 steps\n",
      "Model 1 completed 1500 steps\n",
      "Model 1 complete \n",
      "\n",
      "Running model 1 with params:  [0.15, 0.21, 0.6360547945205479, 0.0003314400267290344, 0.00361376545272302]\n",
      "Groupings:  {<State.SUSCEPTIBLE: 0>: 448, <State.PRESCRIBED: 1>: 47, <State.ADDICTION: 2>: 3, <State.HEROIN_AD: 3>: 2, <State.RECOVERED: 4>: 0, <State.REMOVED: 5>: 0}\n",
      "Model 1 completed 0 steps\n"
     ]
    },
    {
     "name": "stderr",
     "output_type": "stream",
     "text": [
      "/Users/theojulien/Library/Python/3.9/lib/python/site-packages/mesa/agent.py:52: FutureWarning: The Mesa Model class was not initialized. In the future, you need to explicitly initialize the Model by calling super().__init__() on initialization.\n",
      "  self.model.register_agent(self)\n"
     ]
    },
    {
     "name": "stdout",
     "output_type": "stream",
     "text": [
      "Model 1 completed 500 steps\n",
      "Model 1 completed 1000 steps\n",
      "Model 1 completed 1500 steps\n",
      "Model 1 complete \n",
      "\n",
      "Running model 1 with params:  [0.15, 0.24, 0.6062397260273972, 0.000315903775476111, 0.0034443701971266284]\n",
      "Groupings:  {<State.SUSCEPTIBLE: 0>: 448, <State.PRESCRIBED: 1>: 47, <State.ADDICTION: 2>: 3, <State.HEROIN_AD: 3>: 2, <State.RECOVERED: 4>: 0, <State.REMOVED: 5>: 0}\n",
      "Model 1 completed 0 steps\n"
     ]
    },
    {
     "name": "stderr",
     "output_type": "stream",
     "text": [
      "/Users/theojulien/Library/Python/3.9/lib/python/site-packages/mesa/agent.py:52: FutureWarning: The Mesa Model class was not initialized. In the future, you need to explicitly initialize the Model by calling super().__init__() on initialization.\n",
      "  self.model.register_agent(self)\n"
     ]
    },
    {
     "name": "stdout",
     "output_type": "stream",
     "text": [
      "Model 1 completed 500 steps\n",
      "Model 1 completed 1000 steps\n",
      "Model 1 completed 1500 steps\n",
      "Model 1 complete \n",
      "\n",
      "Running model 1 with params:  [0.15, 0.27, 0.5764246575342465, 0.00030036752422318743, 0.003274974941530237]\n",
      "Groupings:  {<State.SUSCEPTIBLE: 0>: 448, <State.PRESCRIBED: 1>: 47, <State.ADDICTION: 2>: 3, <State.HEROIN_AD: 3>: 2, <State.RECOVERED: 4>: 0, <State.REMOVED: 5>: 0}\n",
      "Model 1 completed 0 steps\n"
     ]
    },
    {
     "name": "stderr",
     "output_type": "stream",
     "text": [
      "/Users/theojulien/Library/Python/3.9/lib/python/site-packages/mesa/agent.py:52: FutureWarning: The Mesa Model class was not initialized. In the future, you need to explicitly initialize the Model by calling super().__init__() on initialization.\n",
      "  self.model.register_agent(self)\n"
     ]
    },
    {
     "name": "stdout",
     "output_type": "stream",
     "text": [
      "Model 1 completed 500 steps\n",
      "Model 1 completed 1000 steps\n",
      "Model 1 completed 1500 steps\n",
      "Model 1 complete \n",
      "\n"
     ]
    },
    {
     "data": {
      "text/plain": [
       "array([[[4.28266667e+02, 4.40333333e+01, 1.00000000e+00, 2.57000000e+01,\n",
       "         1.00000000e+00],\n",
       "        [4.08200000e+02, 3.92333333e+01, 0.00000000e+00, 5.25666667e+01,\n",
       "         0.00000000e+00],\n",
       "        [3.25600000e+02, 5.06333333e+01, 0.00000000e+00, 1.23766667e+02,\n",
       "         0.00000000e+00],\n",
       "        [4.08933333e+02, 4.41666667e+01, 0.00000000e+00, 4.43666667e+01,\n",
       "         2.53333333e+00],\n",
       "        [4.21833333e+02, 4.97666667e+01, 0.00000000e+00, 2.68333333e+01,\n",
       "         1.56666667e+00]],\n",
       "\n",
       "       [[3.88900000e+02, 3.79000000e+01, 0.00000000e+00, 7.22000000e+01,\n",
       "         1.00000000e+00],\n",
       "        [4.27300000e+02, 4.57000000e+01, 0.00000000e+00, 2.50000000e+01,\n",
       "         2.00000000e+00],\n",
       "        [3.92433333e+02, 4.46666667e+01, 7.66666667e-01, 6.01333333e+01,\n",
       "         2.00000000e+00],\n",
       "        [4.06133333e+02, 3.89666667e+01, 0.00000000e+00, 5.39000000e+01,\n",
       "         1.00000000e+00],\n",
       "        [4.06400000e+02, 4.36666667e+01, 1.00000000e+00, 4.89333333e+01,\n",
       "         0.00000000e+00]],\n",
       "\n",
       "       [[3.44133333e+02, 4.02666667e+01, 2.00000000e-01, 1.14400000e+02,\n",
       "         1.00000000e+00],\n",
       "        [3.56933333e+02, 4.67666667e+01, 1.00000000e+00, 9.33000000e+01,\n",
       "         2.00000000e+00],\n",
       "        [4.11800000e+02, 5.73000000e+01, 1.33333333e-01, 2.57666667e+01,\n",
       "         5.00000000e+00],\n",
       "        [4.09200000e+02, 4.09666667e+01, 0.00000000e+00, 4.78333333e+01,\n",
       "         2.00000000e+00],\n",
       "        [4.17800000e+02, 4.79666667e+01, 0.00000000e+00, 3.32333333e+01,\n",
       "         1.00000000e+00]],\n",
       "\n",
       "       [[4.24400000e+02, 4.50666667e+01, 1.36666667e+00, 2.91666667e+01,\n",
       "         0.00000000e+00],\n",
       "        [2.95833333e+02, 2.79000000e+01, 0.00000000e+00, 1.76266667e+02,\n",
       "         0.00000000e+00],\n",
       "        [4.16566667e+02, 5.95333333e+01, 0.00000000e+00, 2.39000000e+01,\n",
       "         0.00000000e+00],\n",
       "        [3.58966667e+02, 4.80333333e+01, 0.00000000e+00, 9.30000000e+01,\n",
       "         0.00000000e+00],\n",
       "        [4.32600000e+02, 4.18666667e+01, 0.00000000e+00, 2.15666667e+01,\n",
       "         3.96666667e+00]],\n",
       "\n",
       "       [[3.93100000e+02, 4.75000000e+01, 3.33333333e-02, 5.83666667e+01,\n",
       "         1.00000000e+00],\n",
       "        [3.60900000e+02, 3.99333333e+01, 0.00000000e+00, 9.91666667e+01,\n",
       "         0.00000000e+00],\n",
       "        [3.96233333e+02, 3.74666667e+01, 0.00000000e+00, 6.43000000e+01,\n",
       "         2.00000000e+00],\n",
       "        [3.74000000e+02, 5.05000000e+01, 0.00000000e+00, 7.25000000e+01,\n",
       "         3.00000000e+00],\n",
       "        [4.06133333e+02, 4.05333333e+01, 0.00000000e+00, 5.33333333e+01,\n",
       "         0.00000000e+00]]])"
      ]
     },
     "execution_count": 128,
     "metadata": {},
     "output_type": "execute_result"
    }
   ],
   "source": [
    "# TOOK 11.25 minutes with ER(n = 500, p = 0.05), steps = 2000, 5x5 starting conditions\n",
    "G = nx.erdos_renyi_graph(500, p = 0.05)\n",
    "input_data = [(State.ADDICTION, [.03, .06, .09, .12, .15]), (State.PRESCRIBED, [.15, .18, .21, .24, .27])]\n",
    "output = vary_values(G, input_data, default_data.copy(), steps = 2000, n = 30)\n",
    "output"
   ]
  },
  {
   "cell_type": "code",
   "execution_count": 144,
   "metadata": {},
   "outputs": [
    {
     "data": {
      "text/plain": [
       "array([[[8.56533333e+02, 8.80666667e+01, 2.00000000e+00, 5.14000000e+01,\n",
       "         2.00000000e+00],\n",
       "        [8.16400000e+02, 7.84666667e+01, 0.00000000e+00, 1.05133333e+02,\n",
       "         0.00000000e+00],\n",
       "        [6.51200000e+02, 1.01266667e+02, 0.00000000e+00, 2.47533333e+02,\n",
       "         0.00000000e+00],\n",
       "        [8.17866667e+02, 8.83333333e+01, 0.00000000e+00, 8.87333333e+01,\n",
       "         5.06666667e+00],\n",
       "        [8.43666667e+02, 9.95333333e+01, 0.00000000e+00, 5.36666667e+01,\n",
       "         3.13333333e+00]],\n",
       "\n",
       "       [[7.77800000e+02, 7.58000000e+01, 0.00000000e+00, 1.44400000e+02,\n",
       "         2.00000000e+00],\n",
       "        [8.54600000e+02, 9.14000000e+01, 0.00000000e+00, 5.00000000e+01,\n",
       "         4.00000000e+00],\n",
       "        [7.84866667e+02, 8.93333333e+01, 1.53333333e+00, 1.20266667e+02,\n",
       "         4.00000000e+00],\n",
       "        [8.12266667e+02, 7.79333333e+01, 0.00000000e+00, 1.07800000e+02,\n",
       "         2.00000000e+00],\n",
       "        [8.12800000e+02, 8.73333333e+01, 2.00000000e+00, 9.78666667e+01,\n",
       "         0.00000000e+00]],\n",
       "\n",
       "       [[6.88266667e+02, 8.05333333e+01, 4.00000000e-01, 2.28800000e+02,\n",
       "         2.00000000e+00],\n",
       "        [7.13866667e+02, 9.35333333e+01, 2.00000000e+00, 1.86600000e+02,\n",
       "         4.00000000e+00],\n",
       "        [8.23600000e+02, 1.14600000e+02, 2.66666667e-01, 5.15333333e+01,\n",
       "         1.00000000e+01],\n",
       "        [8.18400000e+02, 8.19333333e+01, 0.00000000e+00, 9.56666667e+01,\n",
       "         4.00000000e+00],\n",
       "        [8.35600000e+02, 9.59333333e+01, 0.00000000e+00, 6.64666667e+01,\n",
       "         2.00000000e+00]],\n",
       "\n",
       "       [[8.48800000e+02, 9.01333333e+01, 2.73333333e+00, 5.83333333e+01,\n",
       "         0.00000000e+00],\n",
       "        [5.91666667e+02, 5.58000000e+01, 0.00000000e+00, 3.52533333e+02,\n",
       "         0.00000000e+00],\n",
       "        [8.33133333e+02, 1.19066667e+02, 0.00000000e+00, 4.78000000e+01,\n",
       "         0.00000000e+00],\n",
       "        [7.17933333e+02, 9.60666667e+01, 0.00000000e+00, 1.86000000e+02,\n",
       "         0.00000000e+00],\n",
       "        [8.65200000e+02, 8.37333333e+01, 0.00000000e+00, 4.31333333e+01,\n",
       "         7.93333333e+00]],\n",
       "\n",
       "       [[7.86200000e+02, 9.50000000e+01, 6.66666667e-02, 1.16733333e+02,\n",
       "         2.00000000e+00],\n",
       "        [7.21800000e+02, 7.98666667e+01, 0.00000000e+00, 1.98333333e+02,\n",
       "         0.00000000e+00],\n",
       "        [7.92466667e+02, 7.49333333e+01, 0.00000000e+00, 1.28600000e+02,\n",
       "         4.00000000e+00],\n",
       "        [7.48000000e+02, 1.01000000e+02, 0.00000000e+00, 1.45000000e+02,\n",
       "         6.00000000e+00],\n",
       "        [8.12266667e+02, 8.10666667e+01, 0.00000000e+00, 1.06666667e+02,\n",
       "         0.00000000e+00]]])"
      ]
     },
     "execution_count": 144,
     "metadata": {},
     "output_type": "execute_result"
    }
   ],
   "source": [
    "output * 2"
   ]
  },
  {
   "cell_type": "code",
   "execution_count": 152,
   "metadata": {},
   "outputs": [],
   "source": [
    "def get_AH_proportions(output, G):\n",
    "    proportions = output * (G.number_of_nodes() ** -1)\n",
    "    return proportions[:,:,2:4]#cut out A and H groups from the poportions "
   ]
  },
  {
   "cell_type": "code",
   "execution_count": 153,
   "metadata": {},
   "outputs": [
    {
     "data": {
      "text/plain": [
       "array([[[2.00000000e-03, 5.14000000e-02],\n",
       "        [0.00000000e+00, 1.05133333e-01],\n",
       "        [0.00000000e+00, 2.47533333e-01],\n",
       "        [0.00000000e+00, 8.87333333e-02],\n",
       "        [0.00000000e+00, 5.36666667e-02]],\n",
       "\n",
       "       [[0.00000000e+00, 1.44400000e-01],\n",
       "        [0.00000000e+00, 5.00000000e-02],\n",
       "        [1.53333333e-03, 1.20266667e-01],\n",
       "        [0.00000000e+00, 1.07800000e-01],\n",
       "        [2.00000000e-03, 9.78666667e-02]],\n",
       "\n",
       "       [[4.00000000e-04, 2.28800000e-01],\n",
       "        [2.00000000e-03, 1.86600000e-01],\n",
       "        [2.66666667e-04, 5.15333333e-02],\n",
       "        [0.00000000e+00, 9.56666667e-02],\n",
       "        [0.00000000e+00, 6.64666667e-02]],\n",
       "\n",
       "       [[2.73333333e-03, 5.83333333e-02],\n",
       "        [0.00000000e+00, 3.52533333e-01],\n",
       "        [0.00000000e+00, 4.78000000e-02],\n",
       "        [0.00000000e+00, 1.86000000e-01],\n",
       "        [0.00000000e+00, 4.31333333e-02]],\n",
       "\n",
       "       [[6.66666667e-05, 1.16733333e-01],\n",
       "        [0.00000000e+00, 1.98333333e-01],\n",
       "        [0.00000000e+00, 1.28600000e-01],\n",
       "        [0.00000000e+00, 1.45000000e-01],\n",
       "        [0.00000000e+00, 1.06666667e-01]]])"
      ]
     },
     "execution_count": 153,
     "metadata": {},
     "output_type": "execute_result"
    }
   ],
   "source": [
    "propAH = get_AH_proportions(output, G)\n",
    "\n",
    "propAH"
   ]
  },
  {
   "cell_type": "code",
   "execution_count": 109,
   "metadata": {},
   "outputs": [
    {
     "data": {
      "text/plain": [
       "array([['(1, 5)', '(1, 4)', '(1, 3)', '(1, 2)', '(1, 1)'],\n",
       "       ['(2, 5)', '(2, 4)', '(2, 3)', '(2, 2)', '(2, 1)'],\n",
       "       ['(3, 5)', '(3, 4)', '(3, 3)', '(3, 2)', '(3, 1)'],\n",
       "       ['(4, 5)', '(4, 4)', '(4, 3)', '(4, 2)', '(4, 1)'],\n",
       "       ['(5, 5)', '(5, 4)', '(5, 3)', '(5, 2)', '(5, 1)']], dtype='<U6')"
      ]
     },
     "execution_count": 109,
     "metadata": {},
     "output_type": "execute_result"
    }
   ],
   "source": [
    "start_data = [[1,2,3,4,5], [5,4,3,2,1]]\n",
    "combinations = np.array([[(S1_0, S2_0) for S2_0 in start_data[1]] for S1_0 in start_data[0]])\n",
    "# combinations[0,0,:] # working as expected\n",
    "np.apply_along_axis(lambda x: f\"({x[0]}, {x[1]})\", axis = 2, arr = combinations)"
   ]
  },
  {
   "cell_type": "code",
   "execution_count": 93,
   "metadata": {},
   "outputs": [
    {
     "data": {
      "text/plain": [
       "array([ 6,  7,  8,  9, 10])"
      ]
     },
     "execution_count": 93,
     "metadata": {},
     "output_type": "execute_result"
    }
   ],
   "source": [
    "def add5(i):\n",
    "    return i + 5\n",
    "\n",
    "a = np.array([1,2,3,4,5])\n",
    "add5(a)"
   ]
  },
  {
   "cell_type": "code",
   "execution_count": 92,
   "metadata": {},
   "outputs": [
    {
     "name": "stdout",
     "output_type": "stream",
     "text": [
      "[0.1, 0.2, 0.23333333333333328, 0.23333333333333328, 0.23333333333333328]\n",
      "0.9999999999999999\n"
     ]
    }
   ],
   "source": [
    "existing = np.array([0.2, 0.2, 0.2])\n",
    "edited = np.array([0.1, 0.2])\n",
    "scaled_existing = rebalance(edited, existing)\n",
    "print(list(edited) + list(scaled_existing))\n",
    "print(sum(list(edited) + list(scaled_existing)))\n"
   ]
  },
  {
   "cell_type": "markdown",
   "metadata": {},
   "source": [
    "## Detect steady state\n",
    "Go back through data to find where the populations diverge from 2% (check us on this) of the steady state value."
   ]
  },
  {
   "cell_type": "code",
   "execution_count": null,
   "metadata": {},
   "outputs": [],
   "source": [
    "\n",
    "\n"
   ]
  },
  {
   "cell_type": "code",
   "execution_count": 84,
   "metadata": {},
   "outputs": [
    {
     "data": {
      "text/plain": [
       "375"
      ]
     },
     "execution_count": 84,
     "metadata": {},
     "output_type": "execute_result"
    }
   ],
   "source": [
    "model.deaths"
   ]
  },
  {
   "cell_type": "markdown",
   "metadata": {},
   "source": [
    "SOMETHING SEEMS WRONG (Still relavent might need to mess with the conversion rates between groups for our models), <br>\n",
    "The addiction and herion groups stay suspitiously low"
   ]
  },
  {
   "cell_type": "code",
   "execution_count": 90,
   "metadata": {},
   "outputs": [
    {
     "name": "stderr",
     "output_type": "stream",
     "text": [
      "/Users/theojulien/Library/Python/3.9/lib/python/site-packages/mesa/agent.py:52: FutureWarning: The Mesa Model class was not initialized. In the future, you need to explicitly initialize the Model by calling super().__init__() on initialization.\n",
      "  self.model.register_agent(self)\n"
     ]
    },
    {
     "name": "stdout",
     "output_type": "stream",
     "text": [
      "Groupings:  {<State.SUSCEPTIBLE: 0>: 1786, <State.PRESCRIBED: 1>: 190, <State.ADDICTION: 2>: 14, <State.HEROIN_AD: 3>: 10, <State.RECOVERED: 4>: 0, <State.REMOVED: 5>: 0}\n"
     ]
    },
    {
     "ename": "KeyboardInterrupt",
     "evalue": "",
     "output_type": "error",
     "traceback": [
      "\u001b[0;31m---------------------------------------------------------------------------\u001b[0m",
      "\u001b[0;31mKeyboardInterrupt\u001b[0m                         Traceback (most recent call last)",
      "Cell \u001b[0;32mIn[90], line 33\u001b[0m\n\u001b[1;32m     31\u001b[0m model \u001b[38;5;241m=\u001b[39m SPAHRModel(G)\n\u001b[1;32m     32\u001b[0m model\u001b[38;5;241m.\u001b[39mstep();model\u001b[38;5;241m.\u001b[39mstep()\n\u001b[0;32m---> 33\u001b[0m f\u001b[38;5;241m=\u001b[39m\u001b[43mplot_grid\u001b[49m\u001b[43m(\u001b[49m\u001b[43mmodel\u001b[49m\u001b[43m,\u001b[49m\u001b[43mfig\u001b[49m\u001b[43m,\u001b[49m\u001b[43mlayout\u001b[49m\u001b[38;5;241;43m=\u001b[39;49m\u001b[38;5;124;43m'\u001b[39;49m\u001b[38;5;124;43mkamada-kawai\u001b[39;49m\u001b[38;5;124;43m'\u001b[39;49m\u001b[43m)\u001b[49m\n\u001b[1;32m     34\u001b[0m plt\u001b[38;5;241m.\u001b[39msavefig(\u001b[38;5;124m'\u001b[39m\u001b[38;5;124mabm_networkgrid.jpg\u001b[39m\u001b[38;5;124m'\u001b[39m)\n",
      "Cell \u001b[0;32mIn[90], line 7\u001b[0m, in \u001b[0;36mplot_grid\u001b[0;34m(model, fig, layout, title)\u001b[0m\n\u001b[1;32m      5\u001b[0m graph \u001b[38;5;241m=\u001b[39m model\u001b[38;5;241m.\u001b[39mG\n\u001b[1;32m      6\u001b[0m \u001b[38;5;28;01mif\u001b[39;00m layout \u001b[38;5;241m==\u001b[39m \u001b[38;5;124m'\u001b[39m\u001b[38;5;124mkamada-kawai\u001b[39m\u001b[38;5;124m'\u001b[39m:\n\u001b[0;32m----> 7\u001b[0m     pos \u001b[38;5;241m=\u001b[39m \u001b[43mnx\u001b[49m\u001b[38;5;241;43m.\u001b[39;49m\u001b[43mkamada_kawai_layout\u001b[49m\u001b[43m(\u001b[49m\u001b[43mgraph\u001b[49m\u001b[43m)\u001b[49m\n\u001b[1;32m      8\u001b[0m \u001b[38;5;28;01melif\u001b[39;00m layout \u001b[38;5;241m==\u001b[39m \u001b[38;5;124m'\u001b[39m\u001b[38;5;124mcircular\u001b[39m\u001b[38;5;124m'\u001b[39m:\n\u001b[1;32m      9\u001b[0m     pos \u001b[38;5;241m=\u001b[39m nx\u001b[38;5;241m.\u001b[39mcircular_layout(graph)\n",
      "File \u001b[0;32m~/Library/Python/3.9/lib/python/site-packages/networkx/drawing/layout.py:709\u001b[0m, in \u001b[0;36mkamada_kawai_layout\u001b[0;34m(G, dist, pos, weight, scale, center, dim)\u001b[0m\n\u001b[1;32m    706\u001b[0m         pos \u001b[38;5;241m=\u001b[39m \u001b[38;5;28mdict\u001b[39m(\u001b[38;5;28mzip\u001b[39m(G, np\u001b[38;5;241m.\u001b[39mlinspace(\u001b[38;5;241m0\u001b[39m, \u001b[38;5;241m1\u001b[39m, \u001b[38;5;28mlen\u001b[39m(G))))\n\u001b[1;32m    707\u001b[0m pos_arr \u001b[38;5;241m=\u001b[39m np\u001b[38;5;241m.\u001b[39marray([pos[n] \u001b[38;5;28;01mfor\u001b[39;00m n \u001b[38;5;129;01min\u001b[39;00m G])\n\u001b[0;32m--> 709\u001b[0m pos \u001b[38;5;241m=\u001b[39m \u001b[43m_kamada_kawai_solve\u001b[49m\u001b[43m(\u001b[49m\u001b[43mdist_mtx\u001b[49m\u001b[43m,\u001b[49m\u001b[43m \u001b[49m\u001b[43mpos_arr\u001b[49m\u001b[43m,\u001b[49m\u001b[43m \u001b[49m\u001b[43mdim\u001b[49m\u001b[43m)\u001b[49m\n\u001b[1;32m    711\u001b[0m pos \u001b[38;5;241m=\u001b[39m rescale_layout(pos, scale\u001b[38;5;241m=\u001b[39mscale) \u001b[38;5;241m+\u001b[39m center\n\u001b[1;32m    712\u001b[0m \u001b[38;5;28;01mreturn\u001b[39;00m \u001b[38;5;28mdict\u001b[39m(\u001b[38;5;28mzip\u001b[39m(G, pos))\n",
      "File \u001b[0;32m~/Library/Python/3.9/lib/python/site-packages/networkx/drawing/layout.py:726\u001b[0m, in \u001b[0;36m_kamada_kawai_solve\u001b[0;34m(dist_mtx, pos_arr, dim)\u001b[0m\n\u001b[1;32m    723\u001b[0m meanwt \u001b[38;5;241m=\u001b[39m \u001b[38;5;241m1e-3\u001b[39m\n\u001b[1;32m    724\u001b[0m costargs \u001b[38;5;241m=\u001b[39m (np, \u001b[38;5;241m1\u001b[39m \u001b[38;5;241m/\u001b[39m (dist_mtx \u001b[38;5;241m+\u001b[39m np\u001b[38;5;241m.\u001b[39meye(dist_mtx\u001b[38;5;241m.\u001b[39mshape[\u001b[38;5;241m0\u001b[39m]) \u001b[38;5;241m*\u001b[39m \u001b[38;5;241m1e-3\u001b[39m), meanwt, dim)\n\u001b[0;32m--> 726\u001b[0m optresult \u001b[38;5;241m=\u001b[39m \u001b[43msp\u001b[49m\u001b[38;5;241;43m.\u001b[39;49m\u001b[43moptimize\u001b[49m\u001b[38;5;241;43m.\u001b[39;49m\u001b[43mminimize\u001b[49m\u001b[43m(\u001b[49m\n\u001b[1;32m    727\u001b[0m \u001b[43m    \u001b[49m\u001b[43m_kamada_kawai_costfn\u001b[49m\u001b[43m,\u001b[49m\n\u001b[1;32m    728\u001b[0m \u001b[43m    \u001b[49m\u001b[43mpos_arr\u001b[49m\u001b[38;5;241;43m.\u001b[39;49m\u001b[43mravel\u001b[49m\u001b[43m(\u001b[49m\u001b[43m)\u001b[49m\u001b[43m,\u001b[49m\n\u001b[1;32m    729\u001b[0m \u001b[43m    \u001b[49m\u001b[43mmethod\u001b[49m\u001b[38;5;241;43m=\u001b[39;49m\u001b[38;5;124;43m\"\u001b[39;49m\u001b[38;5;124;43mL-BFGS-B\u001b[39;49m\u001b[38;5;124;43m\"\u001b[39;49m\u001b[43m,\u001b[49m\n\u001b[1;32m    730\u001b[0m \u001b[43m    \u001b[49m\u001b[43margs\u001b[49m\u001b[38;5;241;43m=\u001b[39;49m\u001b[43mcostargs\u001b[49m\u001b[43m,\u001b[49m\n\u001b[1;32m    731\u001b[0m \u001b[43m    \u001b[49m\u001b[43mjac\u001b[49m\u001b[38;5;241;43m=\u001b[39;49m\u001b[38;5;28;43;01mTrue\u001b[39;49;00m\u001b[43m,\u001b[49m\n\u001b[1;32m    732\u001b[0m \u001b[43m\u001b[49m\u001b[43m)\u001b[49m\n\u001b[1;32m    734\u001b[0m \u001b[38;5;28;01mreturn\u001b[39;00m optresult\u001b[38;5;241m.\u001b[39mx\u001b[38;5;241m.\u001b[39mreshape((\u001b[38;5;241m-\u001b[39m\u001b[38;5;241m1\u001b[39m, dim))\n",
      "File \u001b[0;32m~/Library/Python/3.9/lib/python/site-packages/scipy/optimize/_minimize.py:713\u001b[0m, in \u001b[0;36mminimize\u001b[0;34m(fun, x0, args, method, jac, hess, hessp, bounds, constraints, tol, callback, options)\u001b[0m\n\u001b[1;32m    710\u001b[0m     res \u001b[38;5;241m=\u001b[39m _minimize_newtoncg(fun, x0, args, jac, hess, hessp, callback,\n\u001b[1;32m    711\u001b[0m                              \u001b[38;5;241m*\u001b[39m\u001b[38;5;241m*\u001b[39moptions)\n\u001b[1;32m    712\u001b[0m \u001b[38;5;28;01melif\u001b[39;00m meth \u001b[38;5;241m==\u001b[39m \u001b[38;5;124m'\u001b[39m\u001b[38;5;124ml-bfgs-b\u001b[39m\u001b[38;5;124m'\u001b[39m:\n\u001b[0;32m--> 713\u001b[0m     res \u001b[38;5;241m=\u001b[39m \u001b[43m_minimize_lbfgsb\u001b[49m\u001b[43m(\u001b[49m\u001b[43mfun\u001b[49m\u001b[43m,\u001b[49m\u001b[43m \u001b[49m\u001b[43mx0\u001b[49m\u001b[43m,\u001b[49m\u001b[43m \u001b[49m\u001b[43margs\u001b[49m\u001b[43m,\u001b[49m\u001b[43m \u001b[49m\u001b[43mjac\u001b[49m\u001b[43m,\u001b[49m\u001b[43m \u001b[49m\u001b[43mbounds\u001b[49m\u001b[43m,\u001b[49m\n\u001b[1;32m    714\u001b[0m \u001b[43m                           \u001b[49m\u001b[43mcallback\u001b[49m\u001b[38;5;241;43m=\u001b[39;49m\u001b[43mcallback\u001b[49m\u001b[43m,\u001b[49m\u001b[43m \u001b[49m\u001b[38;5;241;43m*\u001b[39;49m\u001b[38;5;241;43m*\u001b[39;49m\u001b[43moptions\u001b[49m\u001b[43m)\u001b[49m\n\u001b[1;32m    715\u001b[0m \u001b[38;5;28;01melif\u001b[39;00m meth \u001b[38;5;241m==\u001b[39m \u001b[38;5;124m'\u001b[39m\u001b[38;5;124mtnc\u001b[39m\u001b[38;5;124m'\u001b[39m:\n\u001b[1;32m    716\u001b[0m     res \u001b[38;5;241m=\u001b[39m _minimize_tnc(fun, x0, args, jac, bounds, callback\u001b[38;5;241m=\u001b[39mcallback,\n\u001b[1;32m    717\u001b[0m                         \u001b[38;5;241m*\u001b[39m\u001b[38;5;241m*\u001b[39moptions)\n",
      "File \u001b[0;32m~/Library/Python/3.9/lib/python/site-packages/scipy/optimize/_lbfgsb_py.py:369\u001b[0m, in \u001b[0;36m_minimize_lbfgsb\u001b[0;34m(fun, x0, args, jac, bounds, disp, maxcor, ftol, gtol, eps, maxfun, maxiter, iprint, callback, maxls, finite_diff_rel_step, **unknown_options)\u001b[0m\n\u001b[1;32m    363\u001b[0m task_str \u001b[38;5;241m=\u001b[39m task\u001b[38;5;241m.\u001b[39mtobytes()\n\u001b[1;32m    364\u001b[0m \u001b[38;5;28;01mif\u001b[39;00m task_str\u001b[38;5;241m.\u001b[39mstartswith(\u001b[38;5;124mb\u001b[39m\u001b[38;5;124m'\u001b[39m\u001b[38;5;124mFG\u001b[39m\u001b[38;5;124m'\u001b[39m):\n\u001b[1;32m    365\u001b[0m     \u001b[38;5;66;03m# The minimization routine wants f and g at the current x.\u001b[39;00m\n\u001b[1;32m    366\u001b[0m     \u001b[38;5;66;03m# Note that interruptions due to maxfun are postponed\u001b[39;00m\n\u001b[1;32m    367\u001b[0m     \u001b[38;5;66;03m# until the completion of the current minimization iteration.\u001b[39;00m\n\u001b[1;32m    368\u001b[0m     \u001b[38;5;66;03m# Overwrite f and g:\u001b[39;00m\n\u001b[0;32m--> 369\u001b[0m     f, g \u001b[38;5;241m=\u001b[39m \u001b[43mfunc_and_grad\u001b[49m\u001b[43m(\u001b[49m\u001b[43mx\u001b[49m\u001b[43m)\u001b[49m\n\u001b[1;32m    370\u001b[0m \u001b[38;5;28;01melif\u001b[39;00m task_str\u001b[38;5;241m.\u001b[39mstartswith(\u001b[38;5;124mb\u001b[39m\u001b[38;5;124m'\u001b[39m\u001b[38;5;124mNEW_X\u001b[39m\u001b[38;5;124m'\u001b[39m):\n\u001b[1;32m    371\u001b[0m     \u001b[38;5;66;03m# new iteration\u001b[39;00m\n\u001b[1;32m    372\u001b[0m     n_iterations \u001b[38;5;241m+\u001b[39m\u001b[38;5;241m=\u001b[39m \u001b[38;5;241m1\u001b[39m\n",
      "File \u001b[0;32m~/Library/Python/3.9/lib/python/site-packages/scipy/optimize/_differentiable_functions.py:296\u001b[0m, in \u001b[0;36mScalarFunction.fun_and_grad\u001b[0;34m(self, x)\u001b[0m\n\u001b[1;32m    294\u001b[0m \u001b[38;5;28;01mif\u001b[39;00m \u001b[38;5;129;01mnot\u001b[39;00m np\u001b[38;5;241m.\u001b[39marray_equal(x, \u001b[38;5;28mself\u001b[39m\u001b[38;5;241m.\u001b[39mx):\n\u001b[1;32m    295\u001b[0m     \u001b[38;5;28mself\u001b[39m\u001b[38;5;241m.\u001b[39m_update_x_impl(x)\n\u001b[0;32m--> 296\u001b[0m \u001b[38;5;28;43mself\u001b[39;49m\u001b[38;5;241;43m.\u001b[39;49m\u001b[43m_update_fun\u001b[49m\u001b[43m(\u001b[49m\u001b[43m)\u001b[49m\n\u001b[1;32m    297\u001b[0m \u001b[38;5;28mself\u001b[39m\u001b[38;5;241m.\u001b[39m_update_grad()\n\u001b[1;32m    298\u001b[0m \u001b[38;5;28;01mreturn\u001b[39;00m \u001b[38;5;28mself\u001b[39m\u001b[38;5;241m.\u001b[39mf, \u001b[38;5;28mself\u001b[39m\u001b[38;5;241m.\u001b[39mg\n",
      "File \u001b[0;32m~/Library/Python/3.9/lib/python/site-packages/scipy/optimize/_differentiable_functions.py:262\u001b[0m, in \u001b[0;36mScalarFunction._update_fun\u001b[0;34m(self)\u001b[0m\n\u001b[1;32m    260\u001b[0m \u001b[38;5;28;01mdef\u001b[39;00m \u001b[38;5;21m_update_fun\u001b[39m(\u001b[38;5;28mself\u001b[39m):\n\u001b[1;32m    261\u001b[0m     \u001b[38;5;28;01mif\u001b[39;00m \u001b[38;5;129;01mnot\u001b[39;00m \u001b[38;5;28mself\u001b[39m\u001b[38;5;241m.\u001b[39mf_updated:\n\u001b[0;32m--> 262\u001b[0m         \u001b[38;5;28;43mself\u001b[39;49m\u001b[38;5;241;43m.\u001b[39;49m\u001b[43m_update_fun_impl\u001b[49m\u001b[43m(\u001b[49m\u001b[43m)\u001b[49m\n\u001b[1;32m    263\u001b[0m         \u001b[38;5;28mself\u001b[39m\u001b[38;5;241m.\u001b[39mf_updated \u001b[38;5;241m=\u001b[39m \u001b[38;5;28;01mTrue\u001b[39;00m\n",
      "File \u001b[0;32m~/Library/Python/3.9/lib/python/site-packages/scipy/optimize/_differentiable_functions.py:163\u001b[0m, in \u001b[0;36mScalarFunction.__init__.<locals>.update_fun\u001b[0;34m()\u001b[0m\n\u001b[1;32m    162\u001b[0m \u001b[38;5;28;01mdef\u001b[39;00m \u001b[38;5;21mupdate_fun\u001b[39m():\n\u001b[0;32m--> 163\u001b[0m     \u001b[38;5;28mself\u001b[39m\u001b[38;5;241m.\u001b[39mf \u001b[38;5;241m=\u001b[39m \u001b[43mfun_wrapped\u001b[49m\u001b[43m(\u001b[49m\u001b[38;5;28;43mself\u001b[39;49m\u001b[38;5;241;43m.\u001b[39;49m\u001b[43mx\u001b[49m\u001b[43m)\u001b[49m\n",
      "File \u001b[0;32m~/Library/Python/3.9/lib/python/site-packages/scipy/optimize/_differentiable_functions.py:145\u001b[0m, in \u001b[0;36mScalarFunction.__init__.<locals>.fun_wrapped\u001b[0;34m(x)\u001b[0m\n\u001b[1;32m    141\u001b[0m \u001b[38;5;28mself\u001b[39m\u001b[38;5;241m.\u001b[39mnfev \u001b[38;5;241m+\u001b[39m\u001b[38;5;241m=\u001b[39m \u001b[38;5;241m1\u001b[39m\n\u001b[1;32m    142\u001b[0m \u001b[38;5;66;03m# Send a copy because the user may overwrite it.\u001b[39;00m\n\u001b[1;32m    143\u001b[0m \u001b[38;5;66;03m# Overwriting results in undefined behaviour because\u001b[39;00m\n\u001b[1;32m    144\u001b[0m \u001b[38;5;66;03m# fun(self.x) will change self.x, with the two no longer linked.\u001b[39;00m\n\u001b[0;32m--> 145\u001b[0m fx \u001b[38;5;241m=\u001b[39m \u001b[43mfun\u001b[49m\u001b[43m(\u001b[49m\u001b[43mnp\u001b[49m\u001b[38;5;241;43m.\u001b[39;49m\u001b[43mcopy\u001b[49m\u001b[43m(\u001b[49m\u001b[43mx\u001b[49m\u001b[43m)\u001b[49m\u001b[43m,\u001b[49m\u001b[43m \u001b[49m\u001b[38;5;241;43m*\u001b[39;49m\u001b[43margs\u001b[49m\u001b[43m)\u001b[49m\n\u001b[1;32m    146\u001b[0m \u001b[38;5;66;03m# Make sure the function returns a true scalar\u001b[39;00m\n\u001b[1;32m    147\u001b[0m \u001b[38;5;28;01mif\u001b[39;00m \u001b[38;5;129;01mnot\u001b[39;00m np\u001b[38;5;241m.\u001b[39misscalar(fx):\n",
      "File \u001b[0;32m~/Library/Python/3.9/lib/python/site-packages/scipy/optimize/_optimize.py:78\u001b[0m, in \u001b[0;36mMemoizeJac.__call__\u001b[0;34m(self, x, *args)\u001b[0m\n\u001b[1;32m     76\u001b[0m \u001b[38;5;28;01mdef\u001b[39;00m \u001b[38;5;21m__call__\u001b[39m(\u001b[38;5;28mself\u001b[39m, x, \u001b[38;5;241m*\u001b[39margs):\n\u001b[1;32m     77\u001b[0m \u001b[38;5;250m    \u001b[39m\u001b[38;5;124;03m\"\"\" returns the function value \"\"\"\u001b[39;00m\n\u001b[0;32m---> 78\u001b[0m     \u001b[38;5;28;43mself\u001b[39;49m\u001b[38;5;241;43m.\u001b[39;49m\u001b[43m_compute_if_needed\u001b[49m\u001b[43m(\u001b[49m\u001b[43mx\u001b[49m\u001b[43m,\u001b[49m\u001b[43m \u001b[49m\u001b[38;5;241;43m*\u001b[39;49m\u001b[43margs\u001b[49m\u001b[43m)\u001b[49m\n\u001b[1;32m     79\u001b[0m     \u001b[38;5;28;01mreturn\u001b[39;00m \u001b[38;5;28mself\u001b[39m\u001b[38;5;241m.\u001b[39m_value\n",
      "File \u001b[0;32m~/Library/Python/3.9/lib/python/site-packages/scipy/optimize/_optimize.py:72\u001b[0m, in \u001b[0;36mMemoizeJac._compute_if_needed\u001b[0;34m(self, x, *args)\u001b[0m\n\u001b[1;32m     70\u001b[0m \u001b[38;5;28;01mif\u001b[39;00m \u001b[38;5;129;01mnot\u001b[39;00m np\u001b[38;5;241m.\u001b[39mall(x \u001b[38;5;241m==\u001b[39m \u001b[38;5;28mself\u001b[39m\u001b[38;5;241m.\u001b[39mx) \u001b[38;5;129;01mor\u001b[39;00m \u001b[38;5;28mself\u001b[39m\u001b[38;5;241m.\u001b[39m_value \u001b[38;5;129;01mis\u001b[39;00m \u001b[38;5;28;01mNone\u001b[39;00m \u001b[38;5;129;01mor\u001b[39;00m \u001b[38;5;28mself\u001b[39m\u001b[38;5;241m.\u001b[39mjac \u001b[38;5;129;01mis\u001b[39;00m \u001b[38;5;28;01mNone\u001b[39;00m:\n\u001b[1;32m     71\u001b[0m     \u001b[38;5;28mself\u001b[39m\u001b[38;5;241m.\u001b[39mx \u001b[38;5;241m=\u001b[39m np\u001b[38;5;241m.\u001b[39masarray(x)\u001b[38;5;241m.\u001b[39mcopy()\n\u001b[0;32m---> 72\u001b[0m     fg \u001b[38;5;241m=\u001b[39m \u001b[38;5;28;43mself\u001b[39;49m\u001b[38;5;241;43m.\u001b[39;49m\u001b[43mfun\u001b[49m\u001b[43m(\u001b[49m\u001b[43mx\u001b[49m\u001b[43m,\u001b[49m\u001b[43m \u001b[49m\u001b[38;5;241;43m*\u001b[39;49m\u001b[43margs\u001b[49m\u001b[43m)\u001b[49m\n\u001b[1;32m     73\u001b[0m     \u001b[38;5;28mself\u001b[39m\u001b[38;5;241m.\u001b[39mjac \u001b[38;5;241m=\u001b[39m fg[\u001b[38;5;241m1\u001b[39m]\n\u001b[1;32m     74\u001b[0m     \u001b[38;5;28mself\u001b[39m\u001b[38;5;241m.\u001b[39m_value \u001b[38;5;241m=\u001b[39m fg[\u001b[38;5;241m0\u001b[39m]\n",
      "File \u001b[0;32m~/Library/Python/3.9/lib/python/site-packages/networkx/drawing/layout.py:750\u001b[0m, in \u001b[0;36m_kamada_kawai_costfn\u001b[0;34m(pos_vec, np, invdist, meanweight, dim)\u001b[0m\n\u001b[1;32m    747\u001b[0m offset[np\u001b[38;5;241m.\u001b[39mdiag_indices(nNodes)] \u001b[38;5;241m=\u001b[39m \u001b[38;5;241m0\u001b[39m\n\u001b[1;32m    749\u001b[0m cost \u001b[38;5;241m=\u001b[39m \u001b[38;5;241m0.5\u001b[39m \u001b[38;5;241m*\u001b[39m np\u001b[38;5;241m.\u001b[39msum(offset\u001b[38;5;241m*\u001b[39m\u001b[38;5;241m*\u001b[39m\u001b[38;5;241m2\u001b[39m)\n\u001b[0;32m--> 750\u001b[0m grad \u001b[38;5;241m=\u001b[39m \u001b[43mnp\u001b[49m\u001b[38;5;241;43m.\u001b[39;49m\u001b[43meinsum\u001b[49m\u001b[43m(\u001b[49m\u001b[38;5;124;43m\"\u001b[39;49m\u001b[38;5;124;43mij,ij,ijk->ik\u001b[39;49m\u001b[38;5;124;43m\"\u001b[39;49m\u001b[43m,\u001b[49m\u001b[43m \u001b[49m\u001b[43minvdist\u001b[49m\u001b[43m,\u001b[49m\u001b[43m \u001b[49m\u001b[43moffset\u001b[49m\u001b[43m,\u001b[49m\u001b[43m \u001b[49m\u001b[43mdirection\u001b[49m\u001b[43m)\u001b[49m \u001b[38;5;241m-\u001b[39m np\u001b[38;5;241m.\u001b[39meinsum(\n\u001b[1;32m    751\u001b[0m     \u001b[38;5;124m\"\u001b[39m\u001b[38;5;124mij,ij,ijk->jk\u001b[39m\u001b[38;5;124m\"\u001b[39m, invdist, offset, direction\n\u001b[1;32m    752\u001b[0m )\n\u001b[1;32m    754\u001b[0m \u001b[38;5;66;03m# Additional parabolic term to encourage mean position to be near origin:\u001b[39;00m\n\u001b[1;32m    755\u001b[0m sumpos \u001b[38;5;241m=\u001b[39m np\u001b[38;5;241m.\u001b[39msum(pos_arr, axis\u001b[38;5;241m=\u001b[39m\u001b[38;5;241m0\u001b[39m)\n",
      "File \u001b[0;32m~/Library/Python/3.9/lib/python/site-packages/numpy/core/einsumfunc.py:1371\u001b[0m, in \u001b[0;36meinsum\u001b[0;34m(out, optimize, *operands, **kwargs)\u001b[0m\n\u001b[1;32m   1369\u001b[0m     \u001b[38;5;28;01mif\u001b[39;00m specified_out:\n\u001b[1;32m   1370\u001b[0m         kwargs[\u001b[38;5;124m'\u001b[39m\u001b[38;5;124mout\u001b[39m\u001b[38;5;124m'\u001b[39m] \u001b[38;5;241m=\u001b[39m out\n\u001b[0;32m-> 1371\u001b[0m     \u001b[38;5;28;01mreturn\u001b[39;00m \u001b[43mc_einsum\u001b[49m\u001b[43m(\u001b[49m\u001b[38;5;241;43m*\u001b[39;49m\u001b[43moperands\u001b[49m\u001b[43m,\u001b[49m\u001b[43m \u001b[49m\u001b[38;5;241;43m*\u001b[39;49m\u001b[38;5;241;43m*\u001b[39;49m\u001b[43mkwargs\u001b[49m\u001b[43m)\u001b[49m\n\u001b[1;32m   1373\u001b[0m \u001b[38;5;66;03m# Check the kwargs to avoid a more cryptic error later, without having to\u001b[39;00m\n\u001b[1;32m   1374\u001b[0m \u001b[38;5;66;03m# repeat default values here\u001b[39;00m\n\u001b[1;32m   1375\u001b[0m valid_einsum_kwargs \u001b[38;5;241m=\u001b[39m [\u001b[38;5;124m'\u001b[39m\u001b[38;5;124mdtype\u001b[39m\u001b[38;5;124m'\u001b[39m, \u001b[38;5;124m'\u001b[39m\u001b[38;5;124morder\u001b[39m\u001b[38;5;124m'\u001b[39m, \u001b[38;5;124m'\u001b[39m\u001b[38;5;124mcasting\u001b[39m\u001b[38;5;124m'\u001b[39m]\n",
      "\u001b[0;31mKeyboardInterrupt\u001b[0m: "
     ]
    },
    {
     "data": {
      "image/png": "[encoded data removed]",
      "text/plain": [
       "<Figure size 1600x1000 with 1 Axes>"
      ]
     },
     "metadata": {},
     "output_type": "display_data"
    }
   ],
   "source": [
    "from matplotlib.colors import ListedColormap, LinearSegmentedColormap\n",
    "cmap = ListedColormap([\"lightblue\", \"orange\", \"green\", \"purple\", \"pink\", \"yellow\"])\n",
    "\n",
    "def plot_grid(model,fig,layout='spring',title=''):\n",
    "    graph = model.G\n",
    "    if layout == 'kamada-kawai':\n",
    "        pos = nx.kamada_kawai_layout(graph)\n",
    "    elif layout == 'circular':\n",
    "        pos = nx.circular_layout(graph)\n",
    "    else:\n",
    "        pos = nx.spring_layout(graph, iterations=5, seed=8)\n",
    "    plt.clf()\n",
    "    ax=fig.add_subplot()\n",
    "    states = [int(i.state) for i in model.grid.get_all_cell_contents()]\n",
    "\n",
    "    #cells = [(i.pos,int(i.state)) for i in model.grid.get_all_cell_contents()]\n",
    "    #print (cells[:10])\n",
    "    #print (pos)\n",
    "    #print (pd.Series(states).value_counts())\n",
    "    colors = [cmap(i) for i in states]\n",
    "    \n",
    "    nx.draw(graph, pos, node_size=80, edge_color='gray', node_color=colors, #with_labels=True,\n",
    "            alpha=0.9,font_size=14,ax=ax)\n",
    "    #print (ax.patches)\n",
    "    #ax.legend(['S','I','R'])\n",
    "    ax.legend(['S', 'P', 'A', 'H', 'R'])\n",
    "    ax.set_title(title)\n",
    "    return\n",
    "\n",
    "fig,ax=plt.subplots(1,1,figsize=(16,10))\n",
    "model = SPAHRModel(G)\n",
    "model.step();model.step()\n",
    "f=plot_grid(model,fig,layout='kamada-kawai')\n",
    "plt.savefig('abm_networkgrid.jpg')"
   ]
  },
  {
   "cell_type": "markdown",
   "metadata": {},
   "source": [
    "Attempt with equal starting populations"
   ]
  },
  {
   "cell_type": "code",
   "execution_count": 33,
   "metadata": {},
   "outputs": [
    {
     "name": "stdout",
     "output_type": "stream",
     "text": [
      "Groupings:  {<State.SUSCEPTIBLE: 0>: 89, <State.PRESCRIBED: 1>: 88, <State.ADDICTION: 2>: 100, <State.HEROIN_AD: 3>: 112, <State.RECOVERED: 4>: 111, <State.REMOVED: 5>: 0}\n",
      "0.4741809368133545\n",
      "      Susceptible  Perscribed  Addicted  Heroin Addict  Rehab\n",
      "Step                                                         \n",
      "0              89          88       100            112    111\n",
      "1              93          84        97            115    111\n",
      "2              94          83        94            118    111\n",
      "3              94          83        90            122    111\n",
      "4              97          81        88            123    111\n",
      "5             101          77        85            125    112\n",
      "6             105          73        82            128    112\n",
      "7             105          73        78            132    112\n",
      "8             106          72        76            134    112\n",
      "9             105          73        73            137    112\n"
     ]
    },
    {
     "name": "stderr",
     "output_type": "stream",
     "text": [
      "/Users/theojulien/Library/Python/3.9/lib/python/site-packages/mesa/agent.py:52: FutureWarning: The Mesa Model class was not initialized. In the future, you need to explicitly initialize the Model by calling super().__init__() on initialization.\n",
      "  self.model.register_agent(self)\n"
     ]
    }
   ],
   "source": [
    "G = nx.erdos_renyi_graph(n = 500, p = 3/(500-1))\n",
    "mydata = default_data.copy()\n",
    "mydata[\"S0\"], mydata[\"P0\"], mydata[\"A0\"], mydata[\"H0\"], mydata[\"R0\"] = (0.2, 0.2, 0.2, 0.2, 0.2)\n",
    "model = SPAHRModel(G, data=mydata)\n",
    "steps = 50\n",
    "st = time.time()\n",
    "\n",
    "for i in range(steps):\n",
    "    model.step()\n",
    "print (time.time()-st)\n",
    "agent_state = model.datacollector.get_agent_vars_dataframe()\n",
    "print (get_column_data(model)[:10])"
   ]
  },
  {
   "cell_type": "code",
   "execution_count": 40,
   "metadata": {},
   "outputs": [
    {
     "data": {
      "image/png": "[encoded data removed]",
      "text/plain": [
       "<Figure size 800x400 with 1 Axes>"
      ]
     },
     "metadata": {},
     "output_type": "display_data"
    }
   ],
   "source": [
    "f,ax=plt.subplots(1,1,figsize=(8,4))\n",
    "plot_states(model,ax)\n",
    "plt.savefig('SIR.png',dpi=150)"
   ]
  },
  {
   "cell_type": "code",
   "execution_count": 35,
   "metadata": {},
   "outputs": [
    {
     "name": "stderr",
     "output_type": "stream",
     "text": [
      "/Users/theojulien/Library/Python/3.9/lib/python/site-packages/mesa/agent.py:52: FutureWarning: The Mesa Model class was not initialized. In the future, you need to explicitly initialize the Model by calling super().__init__() on initialization.\n",
      "  self.model.register_agent(self)\n"
     ]
    },
    {
     "name": "stdout",
     "output_type": "stream",
     "text": [
      "Groupings:  {<State.SUSCEPTIBLE: 0>: 448, <State.PRESCRIBED: 1>: 46, <State.ADDICTION: 2>: 4, <State.HEROIN_AD: 3>: 0, <State.RECOVERED: 4>: 2, <State.REMOVED: 5>: 0}\n"
     ]
    },
    {
     "ename": "ValueError",
     "evalue": "'c' argument has 499 elements, which is inconsistent with 'x' and 'y' with size 500.",
     "output_type": "error",
     "traceback": [
      "\u001b[0;31m---------------------------------------------------------------------------\u001b[0m",
      "\u001b[0;31mValueError\u001b[0m                                Traceback (most recent call last)",
      "Cell \u001b[0;32mIn[35], line 4\u001b[0m\n\u001b[1;32m      2\u001b[0m model \u001b[38;5;241m=\u001b[39m SPAHRModel(G)\n\u001b[1;32m      3\u001b[0m model\u001b[38;5;241m.\u001b[39mstep();model\u001b[38;5;241m.\u001b[39mstep()\n\u001b[0;32m----> 4\u001b[0m f\u001b[38;5;241m=\u001b[39m\u001b[43mplot_grid\u001b[49m\u001b[43m(\u001b[49m\u001b[43mmodel\u001b[49m\u001b[43m,\u001b[49m\u001b[43mfig\u001b[49m\u001b[43m,\u001b[49m\u001b[43mlayout\u001b[49m\u001b[38;5;241;43m=\u001b[39;49m\u001b[38;5;124;43m'\u001b[39;49m\u001b[38;5;124;43mkamada-kawai\u001b[39;49m\u001b[38;5;124;43m'\u001b[39;49m\u001b[43m)\u001b[49m\n\u001b[1;32m      5\u001b[0m plt\u001b[38;5;241m.\u001b[39msavefig(\u001b[38;5;124m'\u001b[39m\u001b[38;5;124mabm_networkgrid.jpg\u001b[39m\u001b[38;5;124m'\u001b[39m)\n",
      "Cell \u001b[0;32mIn[32], line 22\u001b[0m, in \u001b[0;36mplot_grid\u001b[0;34m(model, fig, layout, title)\u001b[0m\n\u001b[1;32m     16\u001b[0m \u001b[38;5;66;03m#cells = [(i.pos,int(i.state)) for i in model.grid.get_all_cell_contents()]\u001b[39;00m\n\u001b[1;32m     17\u001b[0m \u001b[38;5;66;03m#print (cells[:10])\u001b[39;00m\n\u001b[1;32m     18\u001b[0m \u001b[38;5;66;03m#print (pos)\u001b[39;00m\n\u001b[1;32m     19\u001b[0m \u001b[38;5;66;03m#print (pd.Series(states).value_counts())\u001b[39;00m\n\u001b[1;32m     20\u001b[0m colors \u001b[38;5;241m=\u001b[39m [cmap(i) \u001b[38;5;28;01mfor\u001b[39;00m i \u001b[38;5;129;01min\u001b[39;00m states]\n\u001b[0;32m---> 22\u001b[0m \u001b[43mnx\u001b[49m\u001b[38;5;241;43m.\u001b[39;49m\u001b[43mdraw\u001b[49m\u001b[43m(\u001b[49m\u001b[43mgraph\u001b[49m\u001b[43m,\u001b[49m\u001b[43m \u001b[49m\u001b[43mpos\u001b[49m\u001b[43m,\u001b[49m\u001b[43m \u001b[49m\u001b[43mnode_size\u001b[49m\u001b[38;5;241;43m=\u001b[39;49m\u001b[38;5;241;43m80\u001b[39;49m\u001b[43m,\u001b[49m\u001b[43m \u001b[49m\u001b[43medge_color\u001b[49m\u001b[38;5;241;43m=\u001b[39;49m\u001b[38;5;124;43m'\u001b[39;49m\u001b[38;5;124;43mgray\u001b[39;49m\u001b[38;5;124;43m'\u001b[39;49m\u001b[43m,\u001b[49m\u001b[43m \u001b[49m\u001b[43mnode_color\u001b[49m\u001b[38;5;241;43m=\u001b[39;49m\u001b[43mcolors\u001b[49m\u001b[43m,\u001b[49m\u001b[43m \u001b[49m\u001b[38;5;66;43;03m#with_labels=True,\u001b[39;49;00m\n\u001b[1;32m     23\u001b[0m \u001b[43m        \u001b[49m\u001b[43malpha\u001b[49m\u001b[38;5;241;43m=\u001b[39;49m\u001b[38;5;241;43m0.9\u001b[39;49m\u001b[43m,\u001b[49m\u001b[43mfont_size\u001b[49m\u001b[38;5;241;43m=\u001b[39;49m\u001b[38;5;241;43m14\u001b[39;49m\u001b[43m,\u001b[49m\u001b[43max\u001b[49m\u001b[38;5;241;43m=\u001b[39;49m\u001b[43max\u001b[49m\u001b[43m)\u001b[49m\n\u001b[1;32m     24\u001b[0m \u001b[38;5;66;03m#print (ax.patches)\u001b[39;00m\n\u001b[1;32m     25\u001b[0m \u001b[38;5;66;03m#ax.legend(['S','I','R'])\u001b[39;00m\n\u001b[1;32m     26\u001b[0m ax\u001b[38;5;241m.\u001b[39mlegend([\u001b[38;5;124m'\u001b[39m\u001b[38;5;124mS\u001b[39m\u001b[38;5;124m'\u001b[39m, \u001b[38;5;124m'\u001b[39m\u001b[38;5;124mP\u001b[39m\u001b[38;5;124m'\u001b[39m, \u001b[38;5;124m'\u001b[39m\u001b[38;5;124mA\u001b[39m\u001b[38;5;124m'\u001b[39m, \u001b[38;5;124m'\u001b[39m\u001b[38;5;124mH\u001b[39m\u001b[38;5;124m'\u001b[39m, \u001b[38;5;124m'\u001b[39m\u001b[38;5;124mR\u001b[39m\u001b[38;5;124m'\u001b[39m])\n",
      "File \u001b[0;32m~/Library/Python/3.9/lib/python/site-packages/networkx/drawing/nx_pylab.py:121\u001b[0m, in \u001b[0;36mdraw\u001b[0;34m(G, pos, ax, **kwds)\u001b[0m\n\u001b[1;32m    118\u001b[0m \u001b[38;5;28;01mif\u001b[39;00m \u001b[38;5;124m\"\u001b[39m\u001b[38;5;124mwith_labels\u001b[39m\u001b[38;5;124m\"\u001b[39m \u001b[38;5;129;01mnot\u001b[39;00m \u001b[38;5;129;01min\u001b[39;00m kwds:\n\u001b[1;32m    119\u001b[0m     kwds[\u001b[38;5;124m\"\u001b[39m\u001b[38;5;124mwith_labels\u001b[39m\u001b[38;5;124m\"\u001b[39m] \u001b[38;5;241m=\u001b[39m \u001b[38;5;124m\"\u001b[39m\u001b[38;5;124mlabels\u001b[39m\u001b[38;5;124m\"\u001b[39m \u001b[38;5;129;01min\u001b[39;00m kwds\n\u001b[0;32m--> 121\u001b[0m \u001b[43mdraw_networkx\u001b[49m\u001b[43m(\u001b[49m\u001b[43mG\u001b[49m\u001b[43m,\u001b[49m\u001b[43m \u001b[49m\u001b[43mpos\u001b[49m\u001b[38;5;241;43m=\u001b[39;49m\u001b[43mpos\u001b[49m\u001b[43m,\u001b[49m\u001b[43m \u001b[49m\u001b[43max\u001b[49m\u001b[38;5;241;43m=\u001b[39;49m\u001b[43max\u001b[49m\u001b[43m,\u001b[49m\u001b[43m \u001b[49m\u001b[38;5;241;43m*\u001b[39;49m\u001b[38;5;241;43m*\u001b[39;49m\u001b[43mkwds\u001b[49m\u001b[43m)\u001b[49m\n\u001b[1;32m    122\u001b[0m ax\u001b[38;5;241m.\u001b[39mset_axis_off()\n\u001b[1;32m    123\u001b[0m plt\u001b[38;5;241m.\u001b[39mdraw_if_interactive()\n",
      "File \u001b[0;32m~/Library/Python/3.9/lib/python/site-packages/networkx/drawing/nx_pylab.py:304\u001b[0m, in \u001b[0;36mdraw_networkx\u001b[0;34m(G, pos, arrows, with_labels, **kwds)\u001b[0m\n\u001b[1;32m    301\u001b[0m \u001b[38;5;28;01mif\u001b[39;00m pos \u001b[38;5;129;01mis\u001b[39;00m \u001b[38;5;28;01mNone\u001b[39;00m:\n\u001b[1;32m    302\u001b[0m     pos \u001b[38;5;241m=\u001b[39m nx\u001b[38;5;241m.\u001b[39mdrawing\u001b[38;5;241m.\u001b[39mspring_layout(G)  \u001b[38;5;66;03m# default to spring layout\u001b[39;00m\n\u001b[0;32m--> 304\u001b[0m \u001b[43mdraw_networkx_nodes\u001b[49m\u001b[43m(\u001b[49m\u001b[43mG\u001b[49m\u001b[43m,\u001b[49m\u001b[43m \u001b[49m\u001b[43mpos\u001b[49m\u001b[43m,\u001b[49m\u001b[43m \u001b[49m\u001b[38;5;241;43m*\u001b[39;49m\u001b[38;5;241;43m*\u001b[39;49m\u001b[43mnode_kwds\u001b[49m\u001b[43m)\u001b[49m\n\u001b[1;32m    305\u001b[0m draw_networkx_edges(G, pos, arrows\u001b[38;5;241m=\u001b[39marrows, \u001b[38;5;241m*\u001b[39m\u001b[38;5;241m*\u001b[39medge_kwds)\n\u001b[1;32m    306\u001b[0m \u001b[38;5;28;01mif\u001b[39;00m with_labels:\n",
      "File \u001b[0;32m~/Library/Python/3.9/lib/python/site-packages/networkx/drawing/nx_pylab.py:437\u001b[0m, in \u001b[0;36mdraw_networkx_nodes\u001b[0;34m(G, pos, nodelist, node_size, node_color, node_shape, alpha, cmap, vmin, vmax, ax, linewidths, edgecolors, label, margins)\u001b[0m\n\u001b[1;32m    434\u001b[0m     node_color \u001b[38;5;241m=\u001b[39m apply_alpha(node_color, alpha, nodelist, cmap, vmin, vmax)\n\u001b[1;32m    435\u001b[0m     alpha \u001b[38;5;241m=\u001b[39m \u001b[38;5;28;01mNone\u001b[39;00m\n\u001b[0;32m--> 437\u001b[0m node_collection \u001b[38;5;241m=\u001b[39m \u001b[43max\u001b[49m\u001b[38;5;241;43m.\u001b[39;49m\u001b[43mscatter\u001b[49m\u001b[43m(\u001b[49m\n\u001b[1;32m    438\u001b[0m \u001b[43m    \u001b[49m\u001b[43mxy\u001b[49m\u001b[43m[\u001b[49m\u001b[43m:\u001b[49m\u001b[43m,\u001b[49m\u001b[43m \u001b[49m\u001b[38;5;241;43m0\u001b[39;49m\u001b[43m]\u001b[49m\u001b[43m,\u001b[49m\n\u001b[1;32m    439\u001b[0m \u001b[43m    \u001b[49m\u001b[43mxy\u001b[49m\u001b[43m[\u001b[49m\u001b[43m:\u001b[49m\u001b[43m,\u001b[49m\u001b[43m \u001b[49m\u001b[38;5;241;43m1\u001b[39;49m\u001b[43m]\u001b[49m\u001b[43m,\u001b[49m\n\u001b[1;32m    440\u001b[0m \u001b[43m    \u001b[49m\u001b[43ms\u001b[49m\u001b[38;5;241;43m=\u001b[39;49m\u001b[43mnode_size\u001b[49m\u001b[43m,\u001b[49m\n\u001b[1;32m    441\u001b[0m \u001b[43m    \u001b[49m\u001b[43mc\u001b[49m\u001b[38;5;241;43m=\u001b[39;49m\u001b[43mnode_color\u001b[49m\u001b[43m,\u001b[49m\n\u001b[1;32m    442\u001b[0m \u001b[43m    \u001b[49m\u001b[43mmarker\u001b[49m\u001b[38;5;241;43m=\u001b[39;49m\u001b[43mnode_shape\u001b[49m\u001b[43m,\u001b[49m\n\u001b[1;32m    443\u001b[0m \u001b[43m    \u001b[49m\u001b[43mcmap\u001b[49m\u001b[38;5;241;43m=\u001b[39;49m\u001b[43mcmap\u001b[49m\u001b[43m,\u001b[49m\n\u001b[1;32m    444\u001b[0m \u001b[43m    \u001b[49m\u001b[43mvmin\u001b[49m\u001b[38;5;241;43m=\u001b[39;49m\u001b[43mvmin\u001b[49m\u001b[43m,\u001b[49m\n\u001b[1;32m    445\u001b[0m \u001b[43m    \u001b[49m\u001b[43mvmax\u001b[49m\u001b[38;5;241;43m=\u001b[39;49m\u001b[43mvmax\u001b[49m\u001b[43m,\u001b[49m\n\u001b[1;32m    446\u001b[0m \u001b[43m    \u001b[49m\u001b[43malpha\u001b[49m\u001b[38;5;241;43m=\u001b[39;49m\u001b[43malpha\u001b[49m\u001b[43m,\u001b[49m\n\u001b[1;32m    447\u001b[0m \u001b[43m    \u001b[49m\u001b[43mlinewidths\u001b[49m\u001b[38;5;241;43m=\u001b[39;49m\u001b[43mlinewidths\u001b[49m\u001b[43m,\u001b[49m\n\u001b[1;32m    448\u001b[0m \u001b[43m    \u001b[49m\u001b[43medgecolors\u001b[49m\u001b[38;5;241;43m=\u001b[39;49m\u001b[43medgecolors\u001b[49m\u001b[43m,\u001b[49m\n\u001b[1;32m    449\u001b[0m \u001b[43m    \u001b[49m\u001b[43mlabel\u001b[49m\u001b[38;5;241;43m=\u001b[39;49m\u001b[43mlabel\u001b[49m\u001b[43m,\u001b[49m\n\u001b[1;32m    450\u001b[0m \u001b[43m\u001b[49m\u001b[43m)\u001b[49m\n\u001b[1;32m    451\u001b[0m ax\u001b[38;5;241m.\u001b[39mtick_params(\n\u001b[1;32m    452\u001b[0m     axis\u001b[38;5;241m=\u001b[39m\u001b[38;5;124m\"\u001b[39m\u001b[38;5;124mboth\u001b[39m\u001b[38;5;124m\"\u001b[39m,\n\u001b[1;32m    453\u001b[0m     which\u001b[38;5;241m=\u001b[39m\u001b[38;5;124m\"\u001b[39m\u001b[38;5;124mboth\u001b[39m\u001b[38;5;124m\"\u001b[39m,\n\u001b[0;32m   (...)\u001b[0m\n\u001b[1;32m    457\u001b[0m     labelleft\u001b[38;5;241m=\u001b[39m\u001b[38;5;28;01mFalse\u001b[39;00m,\n\u001b[1;32m    458\u001b[0m )\n\u001b[1;32m    460\u001b[0m \u001b[38;5;28;01mif\u001b[39;00m margins \u001b[38;5;129;01mis\u001b[39;00m \u001b[38;5;129;01mnot\u001b[39;00m \u001b[38;5;28;01mNone\u001b[39;00m:\n",
      "File \u001b[0;32m~/Library/Python/3.9/lib/python/site-packages/matplotlib/__init__.py:1465\u001b[0m, in \u001b[0;36m_preprocess_data.<locals>.inner\u001b[0;34m(ax, data, *args, **kwargs)\u001b[0m\n\u001b[1;32m   1462\u001b[0m \u001b[38;5;129m@functools\u001b[39m\u001b[38;5;241m.\u001b[39mwraps(func)\n\u001b[1;32m   1463\u001b[0m \u001b[38;5;28;01mdef\u001b[39;00m \u001b[38;5;21minner\u001b[39m(ax, \u001b[38;5;241m*\u001b[39margs, data\u001b[38;5;241m=\u001b[39m\u001b[38;5;28;01mNone\u001b[39;00m, \u001b[38;5;241m*\u001b[39m\u001b[38;5;241m*\u001b[39mkwargs):\n\u001b[1;32m   1464\u001b[0m     \u001b[38;5;28;01mif\u001b[39;00m data \u001b[38;5;129;01mis\u001b[39;00m \u001b[38;5;28;01mNone\u001b[39;00m:\n\u001b[0;32m-> 1465\u001b[0m         \u001b[38;5;28;01mreturn\u001b[39;00m \u001b[43mfunc\u001b[49m\u001b[43m(\u001b[49m\u001b[43max\u001b[49m\u001b[43m,\u001b[49m\u001b[43m \u001b[49m\u001b[38;5;241;43m*\u001b[39;49m\u001b[38;5;28;43mmap\u001b[39;49m\u001b[43m(\u001b[49m\u001b[43msanitize_sequence\u001b[49m\u001b[43m,\u001b[49m\u001b[43m \u001b[49m\u001b[43margs\u001b[49m\u001b[43m)\u001b[49m\u001b[43m,\u001b[49m\u001b[43m \u001b[49m\u001b[38;5;241;43m*\u001b[39;49m\u001b[38;5;241;43m*\u001b[39;49m\u001b[43mkwargs\u001b[49m\u001b[43m)\u001b[49m\n\u001b[1;32m   1467\u001b[0m     bound \u001b[38;5;241m=\u001b[39m new_sig\u001b[38;5;241m.\u001b[39mbind(ax, \u001b[38;5;241m*\u001b[39margs, \u001b[38;5;241m*\u001b[39m\u001b[38;5;241m*\u001b[39mkwargs)\n\u001b[1;32m   1468\u001b[0m     auto_label \u001b[38;5;241m=\u001b[39m (bound\u001b[38;5;241m.\u001b[39marguments\u001b[38;5;241m.\u001b[39mget(label_namer)\n\u001b[1;32m   1469\u001b[0m                   \u001b[38;5;129;01mor\u001b[39;00m bound\u001b[38;5;241m.\u001b[39mkwargs\u001b[38;5;241m.\u001b[39mget(label_namer))\n",
      "File \u001b[0;32m~/Library/Python/3.9/lib/python/site-packages/matplotlib/axes/_axes.py:4670\u001b[0m, in \u001b[0;36mAxes.scatter\u001b[0;34m(self, x, y, s, c, marker, cmap, norm, vmin, vmax, alpha, linewidths, edgecolors, plotnonfinite, **kwargs)\u001b[0m\n\u001b[1;32m   4667\u001b[0m \u001b[38;5;28;01mif\u001b[39;00m edgecolors \u001b[38;5;129;01mis\u001b[39;00m \u001b[38;5;28;01mNone\u001b[39;00m:\n\u001b[1;32m   4668\u001b[0m     orig_edgecolor \u001b[38;5;241m=\u001b[39m kwargs\u001b[38;5;241m.\u001b[39mget(\u001b[38;5;124m'\u001b[39m\u001b[38;5;124medgecolor\u001b[39m\u001b[38;5;124m'\u001b[39m, \u001b[38;5;28;01mNone\u001b[39;00m)\n\u001b[1;32m   4669\u001b[0m c, colors, edgecolors \u001b[38;5;241m=\u001b[39m \\\n\u001b[0;32m-> 4670\u001b[0m     \u001b[38;5;28;43mself\u001b[39;49m\u001b[38;5;241;43m.\u001b[39;49m\u001b[43m_parse_scatter_color_args\u001b[49m\u001b[43m(\u001b[49m\n\u001b[1;32m   4671\u001b[0m \u001b[43m        \u001b[49m\u001b[43mc\u001b[49m\u001b[43m,\u001b[49m\u001b[43m \u001b[49m\u001b[43medgecolors\u001b[49m\u001b[43m,\u001b[49m\u001b[43m \u001b[49m\u001b[43mkwargs\u001b[49m\u001b[43m,\u001b[49m\u001b[43m \u001b[49m\u001b[43mx\u001b[49m\u001b[38;5;241;43m.\u001b[39;49m\u001b[43msize\u001b[49m\u001b[43m,\u001b[49m\n\u001b[1;32m   4672\u001b[0m \u001b[43m        \u001b[49m\u001b[43mget_next_color_func\u001b[49m\u001b[38;5;241;43m=\u001b[39;49m\u001b[38;5;28;43mself\u001b[39;49m\u001b[38;5;241;43m.\u001b[39;49m\u001b[43m_get_patches_for_fill\u001b[49m\u001b[38;5;241;43m.\u001b[39;49m\u001b[43mget_next_color\u001b[49m\u001b[43m)\u001b[49m\n\u001b[1;32m   4674\u001b[0m \u001b[38;5;28;01mif\u001b[39;00m plotnonfinite \u001b[38;5;129;01mand\u001b[39;00m colors \u001b[38;5;129;01mis\u001b[39;00m \u001b[38;5;28;01mNone\u001b[39;00m:\n\u001b[1;32m   4675\u001b[0m     c \u001b[38;5;241m=\u001b[39m np\u001b[38;5;241m.\u001b[39mma\u001b[38;5;241m.\u001b[39mmasked_invalid(c)\n",
      "File \u001b[0;32m~/Library/Python/3.9/lib/python/site-packages/matplotlib/axes/_axes.py:4499\u001b[0m, in \u001b[0;36mAxes._parse_scatter_color_args\u001b[0;34m(c, edgecolors, kwargs, xsize, get_next_color_func)\u001b[0m\n\u001b[1;32m   4495\u001b[0m     \u001b[38;5;28;01melse\u001b[39;00m:\n\u001b[1;32m   4496\u001b[0m         \u001b[38;5;28;01mif\u001b[39;00m \u001b[38;5;28mlen\u001b[39m(colors) \u001b[38;5;129;01mnot\u001b[39;00m \u001b[38;5;129;01min\u001b[39;00m (\u001b[38;5;241m0\u001b[39m, \u001b[38;5;241m1\u001b[39m, xsize):\n\u001b[1;32m   4497\u001b[0m             \u001b[38;5;66;03m# NB: remember that a single color is also acceptable.\u001b[39;00m\n\u001b[1;32m   4498\u001b[0m             \u001b[38;5;66;03m# Besides *colors* will be an empty array if c == 'none'.\u001b[39;00m\n\u001b[0;32m-> 4499\u001b[0m             \u001b[38;5;28;01mraise\u001b[39;00m invalid_shape_exception(\u001b[38;5;28mlen\u001b[39m(colors), xsize)\n\u001b[1;32m   4500\u001b[0m \u001b[38;5;28;01melse\u001b[39;00m:\n\u001b[1;32m   4501\u001b[0m     colors \u001b[38;5;241m=\u001b[39m \u001b[38;5;28;01mNone\u001b[39;00m  \u001b[38;5;66;03m# use cmap, norm after collection is created\u001b[39;00m\n",
      "\u001b[0;31mValueError\u001b[0m: 'c' argument has 499 elements, which is inconsistent with 'x' and 'y' with size 500."
     ]
    },
    {
     "data": {
      "image/png": "[encoded data removed]",
      "text/plain": [
       "<Figure size 1600x1000 with 1 Axes>"
      ]
     },
     "metadata": {},
     "output_type": "display_data"
    }
   ],
   "source": [
    "fig,ax=plt.subplots(1,1,figsize=(16,10))\n",
    "model = SPAHRModel(G)\n",
    "model.step();model.step()\n",
    "f=plot_grid(model,fig,layout='kamada-kawai')\n",
    "plt.savefig('abm_networkgrid.jpg')"
   ]
  },
  {
   "cell_type": "code",
   "execution_count": null,
   "metadata": {},
   "outputs": [
    {
     "data": {
      "text/plain": [
       "0"
      ]
     },
     "execution_count": 17,
     "metadata": {},
     "output_type": "execute_result"
    }
   ],
   "source": [
    "model.deaths"
   ]
  },
  {
   "cell_type": "code",
   "execution_count": null,
   "metadata": {},
   "outputs": [
    {
     "data": {
      "text/plain": [
       "{'n': 2000,\n",
       " 'drate': 0.0071,\n",
       " 'tstep': 0.01,\n",
       " 'od_rateA': 0.00883,\n",
       " 'od_rateH': 0.0466,\n",
       " 'S2P': 0.27,\n",
       " 'P2S': 2.53,\n",
       " 'S2H': 0.222,\n",
       " 'S2A_A': 0.000878,\n",
       " 'S2A_P': 6.54e-05,\n",
       " 'P2A': 0.00505,\n",
       " 'P2H': 0.236,\n",
       " 'A2H': 19.7,\n",
       " 'A2R': 0.198,\n",
       " 'H2R': 0.000531,\n",
       " 'sigma': 0.102,\n",
       " 'omega': 0.0001,\n",
       " 'S0': 0.892365,\n",
       " 'P0': 0.095,\n",
       " 'A0': 0.0071,\n",
       " 'H0': 0.000465,\n",
       " 'R0': 0.00507}"
      ]
     },
     "execution_count": 18,
     "metadata": {},
     "output_type": "execute_result"
    }
   ],
   "source": [
    "default_data"
   ]
  },
  {
   "cell_type": "code",
   "execution_count": null,
   "metadata": {},
   "outputs": [
    {
     "name": "stdout",
     "output_type": "stream",
     "text": [
      "Package                   Version\n",
      "------------------------- ---------------\n",
      "altgraph                  0.17.2\n",
      "anyio                     4.3.0\n",
      "appnope                   0.1.3\n",
      "argon2-cffi               23.1.0\n",
      "argon2-cffi-bindings      21.2.0\n",
      "arrow                     1.3.0\n",
      "asttokens                 2.4.1\n",
      "async-lru                 2.0.4\n",
      "attrs                     23.2.0\n",
      "Babel                     2.14.0\n",
      "beautifulsoup4            4.12.3\n",
      "binaryornot               0.4.4\n",
      "bleach                    6.1.0\n",
      "bokeh                     3.4.3\n",
      "cachetools                5.5.0\n",
      "certifi                   2024.2.2\n",
      "cffi                      1.16.0\n",
      "chardet                   4.0.0\n",
      "charset-normalizer        3.3.2\n",
      "click                     8.1.7\n",
      "colorcet                  3.1.0\n",
      "comm                      0.2.1\n",
      "contourpy                 1.2.0\n",
      "cookiecutter              2.6.0\n",
      "cycler                    0.12.1\n",
      "debugpy                   1.8.0\n",
      "decorator                 5.1.1\n",
      "defusedxml                0.7.1\n",
      "distlib                   0.3.8\n",
      "entrypoints               0.4\n",
      "exceptiongroup            1.2.0\n",
      "executing                 2.0.1\n",
      "fastjsonschema            2.19.1\n",
      "filelock                  3.14.0\n",
      "flake8                    3.9.1\n",
      "fonttools                 4.47.2\n",
      "fqdn                      1.5.1\n",
      "future                    0.18.2\n",
      "h11                       0.14.0\n",
      "holoviews                 1.20.0\n",
      "httpcore                  1.0.4\n",
      "httpx                     0.27.0\n",
      "humanize                  4.11.0\n",
      "hvplot                    0.11.1\n",
      "idna                      2.10\n",
      "imageio                   2.34.0\n",
      "imageio-ffmpeg            0.4.9\n",
      "importlib-metadata        7.0.1\n",
      "importlib-resources       6.1.1\n",
      "iniconfig                 2.0.0\n",
      "ipykernel                 6.29.0\n",
      "ipython                   8.18.1\n",
      "ipyvue                    1.11.2\n",
      "ipyvuetify                1.10.0\n",
      "ipywidgets                8.1.5\n",
      "isoduration               20.11.0\n",
      "jedi                      0.19.1\n",
      "Jinja2                    3.1.3\n",
      "joblib                    1.3.2\n",
      "json5                     0.9.22\n",
      "jsonpointer               2.4\n",
      "jsonschema                4.21.1\n",
      "jsonschema-specifications 2023.12.1\n",
      "jupyter_bokeh             4.0.5\n",
      "jupyter_client            7.4.9\n",
      "jupyter_core              5.7.1\n",
      "jupyter-events            0.9.0\n",
      "jupyter-lsp               2.2.4\n",
      "jupyter_server            2.13.0\n",
      "jupyter_server_terminals  0.5.2\n",
      "jupyterlab                4.1.4\n",
      "jupyterlab_pygments       0.3.0\n",
      "jupyterlab_server         2.25.3\n",
      "jupyterlab_widgets        3.0.13\n",
      "kiwisolver                1.4.5\n",
      "lazy_loader               0.3\n",
      "linkify-it-py             2.0.3\n",
      "macholib                  1.15.2\n",
      "Markdown                  3.7\n",
      "markdown-it-py            3.0.0\n",
      "MarkupSafe                2.1.5\n",
      "matplotlib                3.8.2\n",
      "matplotlib-inline         0.1.6\n",
      "mccabe                    0.6.1\n",
      "mdit-py-plugins           0.4.2\n",
      "mdurl                     0.1.2\n",
      "Mesa                      2.4.0\n",
      "Mesa-Viz-Tornado          0.1.3\n",
      "mingus                    0.6.1\n",
      "mistune                   3.0.2\n",
      "nbclient                  0.9.0\n",
      "nbconvert                 7.16.2\n",
      "nbformat                  5.9.2\n",
      "nest-asyncio              1.6.0\n",
      "networkx                  3.2.1\n",
      "notebook                  7.1.1\n",
      "notebook_shim             0.2.4\n",
      "numpy                     1.26.4\n",
      "opencv-python             4.9.0.80\n",
      "overrides                 7.7.0\n",
      "packaging                 23.2\n",
      "pandas                    2.2.0\n",
      "pandocfilters             1.5.1\n",
      "panel                     1.4.5\n",
      "param                     2.1.1\n",
      "parso                     0.8.3\n",
      "pexpect                   4.9.0\n",
      "pillow                    10.2.0\n",
      "pip                       24.3.1\n",
      "platformdirs              4.2.0\n",
      "pluggy                    0.13.1\n",
      "prometheus_client         0.20.0\n",
      "prompt-toolkit            3.0.43\n",
      "psutil                    5.9.8\n",
      "ptyprocess                0.7.0\n",
      "pure-eval                 0.2.2\n",
      "py                        1.11.0\n",
      "pycodestyle               2.7.0\n",
      "pycparser                 2.21\n",
      "pyflakes                  2.3.1\n",
      "Pygments                  2.17.2\n",
      "pymdown-extensions        10.12\n",
      "pyparsing                 3.1.1\n",
      "pypiano                   0.1.0\n",
      "pytest                    6.2.3\n",
      "python-dateutil           2.8.2\n",
      "python-json-logger        2.0.7\n",
      "python-slugify            8.0.4\n",
      "pytz                      2024.1\n",
      "pyviz_comms               3.0.3\n",
      "PyYAML                    6.0.1\n",
      "pyzmq                     24.0.1\n",
      "reacton                   1.8.3\n",
      "referencing               0.33.0\n",
      "requests                  2.25.1\n",
      "rfc3339-validator         0.1.4\n",
      "rfc3986-validator         0.1.1\n",
      "rich                      13.9.4\n",
      "rich-click                1.8.4\n",
      "rpds-py                   0.18.0\n",
      "scikit-image              0.22.0\n",
      "scikit-learn              1.4.0\n",
      "scipy                     1.12.0\n",
      "seaborn                   0.13.2\n",
      "Send2Trash                1.8.2\n",
      "setuptools                58.0.4\n",
      "sf2utils                  0.9.0\n",
      "six                       1.15.0\n",
      "sniffio                   1.3.1\n",
      "solara                    1.41.0\n",
      "solara-server             1.41.0\n",
      "solara-ui                 1.41.0\n",
      "soupsieve                 2.5\n",
      "stack-data                0.6.3\n",
      "starlette                 0.41.3\n",
      "terminado                 0.18.0\n",
      "text-unidecode            1.3\n",
      "threadpoolctl             3.2.0\n",
      "tifffile                  2024.2.12\n",
      "tinycss2                  1.2.1\n",
      "toml                      0.10.2\n",
      "tomli                     2.0.1\n",
      "tornado                   6.4\n",
      "tox                       3.23.0\n",
      "tqdm                      4.60.0\n",
      "traitlets                 5.14.1\n",
      "types-python-dateutil     2.8.19.20240106\n",
      "typing_extensions         4.9.0\n",
      "tzdata                    2023.4\n",
      "uc-micro-py               1.0.3\n",
      "uri-template              1.3.0\n",
      "urllib3                   1.26.18\n",
      "uvicorn                   0.32.1\n",
      "virtualenv                20.26.2\n",
      "watchdog                  6.0.0\n",
      "watchfiles                1.0.0\n",
      "wcwidth                   0.2.13\n",
      "webcolors                 1.13\n",
      "webencodings              0.5.1\n",
      "websocket-client          1.7.0\n",
      "websockets                14.1\n",
      "wheel                     0.37.0\n",
      "widgetsnbextension        4.0.13\n",
      "xyzservices               2024.9.0\n",
      "zipp                      3.17.0\n",
      "Note: you may need to restart the kernel to use updated packages.\n"
     ]
    }
   ],
   "source": [
    "%pip list numpy"
   ]
  },
  {
   "cell_type": "code",
   "execution_count": null,
   "metadata": {},
   "outputs": [],
   "source": []
  }
 ],
 "metadata": {
  "kernelspec": {
   "display_name": "Python 3 (ipykernel)",
   "language": "python",
   "name": "python3"
  },
  "language_info": {
   "codemirror_mode": {
    "name": "ipython",
    "version": 3
   },
   "file_extension": ".py",
   "mimetype": "text/x-python",
   "name": "python",
   "nbconvert_exporter": "python",
   "pygments_lexer": "ipython3",
   "version": "3.9.6"
  }
 },
 "nbformat": 4,
 "nbformat_minor": 4
}
